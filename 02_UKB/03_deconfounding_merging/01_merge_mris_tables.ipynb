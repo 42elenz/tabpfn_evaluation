{
 "cells": [
  {
   "cell_type": "code",
   "execution_count": null,
   "metadata": {},
   "outputs": [],
   "source": [
    "import pandas as pd\n",
    "import numpy as np\n",
    "import os\n",
    "import sys\n",
    "import subprocess\n",
    "from itertools import combinations_with_replacement\n",
    "from itertools import product"
   ]
  },
  {
   "cell_type": "code",
   "execution_count": null,
   "metadata": {},
   "outputs": [],
   "source": [
    "import os\n",
    "import pandas as pd\n",
    "from itertools import combinations\n",
    "\n",
    "# Define the folder containing the CSV files\n",
    "tables_to_combine_folder = \"../00_data/deconfounded_but_age\"\n",
    "\n",
    "# Get a list of all CSV files in the folder\n",
    "csv_files = [f for f in os.listdir(tables_to_combine_folder) if f.endswith(\".csv\")]\n",
    "\n",
    "# Create output directory for merged files\n",
    "output_folder = os.path.join(tables_to_combine_folder)\n",
    "os.makedirs(output_folder, exist_ok=True)\n",
    "\n",
    "# Generate all possible combinations of CSV files (2 or more files)\n",
    "for r in range(2, len(csv_files) + 1):  # r = 2 to total number of files\n",
    "    for combo in combinations(csv_files, r):\n",
    "        # Read and merge all files in the combination\n",
    "        merged_df = pd.read_csv(os.path.join(tables_to_combine_folder, combo[0]))\n",
    "        for file in combo[1:]:\n",
    "            df = pd.read_csv(os.path.join(tables_to_combine_folder, file))\n",
    "            merged_df = pd.merge(merged_df, df, on=\"ID\", suffixes=(None, '_' + file[:-4]))\n",
    "        \n",
    "        # Define a filename for the merged file\n",
    "        combo_name = \"_\".join([file[:-4] for file in combo])  # e.g., \"A_B\" for A.csv and B.csv\n",
    "        output_filename = f\"{combo_name}.csv\"\n",
    "        output_path = os.path.join(output_folder, output_filename)\n",
    "        \n",
    "        # Save the merged DataFrame\n",
    "        merged_df.to_csv(output_path, index=False)\n",
    "        print(f\"into folder {output_folder}\")\n",
    "        print(f\"Merged {combo} into {output_filename}\")\n",
    "\n",
    "print(\"All combinations have been merged and saved.\")\n"
   ]
  },
  {
   "cell_type": "code",
   "execution_count": null,
   "metadata": {},
   "outputs": [],
   "source": []
  }
 ],
 "metadata": {
  "kernelspec": {
   "display_name": "Python 3",
   "language": "python",
   "name": "python3"
  },
  "language_info": {
   "codemirror_mode": {
    "name": "ipython",
    "version": 3
   },
   "file_extension": ".py",
   "mimetype": "text/x-python",
   "name": "python",
   "nbconvert_exporter": "python",
   "pygments_lexer": "ipython3",
   "version": "3.12.3"
  }
 },
 "nbformat": 4,
 "nbformat_minor": 2
}
