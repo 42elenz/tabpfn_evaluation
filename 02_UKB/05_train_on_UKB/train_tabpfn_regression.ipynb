{
 "cells": [
  {
   "cell_type": "code",
   "execution_count": null,
   "metadata": {},
   "outputs": [],
   "source": [
    "\n",
    "import pandas as pd\n",
    "import os\n",
    "\n",
    "\n",
    "from sklearn.model_selection import train_test_split\n",
    "from sklearn.metrics import mean_squared_error, mean_absolute_error, r2_score\n",
    "from sklearn.metrics import explained_variance_score, mean_absolute_percentage_error\n",
    "import numpy as np\n",
    "import matplotlib.pyplot as plt\n",
    "from xgboost import XGBRegressor"
   ]
  },
  {
   "cell_type": "code",
   "execution_count": null,
   "metadata": {},
   "outputs": [],
   "source": [
    "#load all dfs form a folder and merge them on ID\n",
    "\"\"\" path = \"/zi/home/esra.lenz/Documents/00_HITKIP/09_TABPFN/00_NAKO/00_data/deconfounded_but_age/\"\n",
    "for i, file in enumerate(os.listdir(path)):\n",
    "    if i == 0:\n",
    "        df = pd.read_csv(path + file)\n",
    "    else:\n",
    "        df = pd.merge(df, pd.read_csv(path + file), on='ID') \"\"\"\n",
    "df = pd.read_csv(\"/zi/home/esra.lenz/Documents/00_HITKIP/09_TABPFN/00_NAKO/00_data/deconfounded_but_age/aseg.volume_aparc.volume_aparc.thickness.csv\")\n",
    "label_df = pd.read_csv(\"/zi/home/esra.lenz/Documents/00_HITKIP/09_TABPFN/00_NAKO/00_data/age_label/all_ages.csv\")\n",
    "\n",
    "label_df = label_df[['ID', 'label_Age']]"
   ]
  },
  {
   "cell_type": "code",
   "execution_count": null,
   "metadata": {},
   "outputs": [],
   "source": [
    "for col in df.columns:\n",
    "    print(col)"
   ]
  },
  {
   "cell_type": "code",
   "execution_count": null,
   "metadata": {},
   "outputs": [],
   "source": [
    "for col in label_df.columns:\n",
    "    print(col)"
   ]
  },
  {
   "cell_type": "code",
   "execution_count": null,
   "metadata": {},
   "outputs": [],
   "source": [
    "#merge the dataframes on ID\n",
    "merged_df = pd.merge(df, label_df, on='ID', how='inner')"
   ]
  },
  {
   "cell_type": "code",
   "execution_count": null,
   "metadata": {},
   "outputs": [],
   "source": [
    "print(merged_df[\"label_Age\"].value_counts())\n",
    "merged_df.dropna(inplace=True)\n",
    "merged_df = merged_df[:5000]\n"
   ]
  },
  {
   "cell_type": "code",
   "execution_count": null,
   "metadata": {},
   "outputs": [],
   "source": [
    "y = merged_df[\"label_Age\"]\n",
    "X = merged_df.drop([\"ID\", \"label_Age\"], axis=1)"
   ]
  },
  {
   "cell_type": "code",
   "execution_count": null,
   "metadata": {},
   "outputs": [],
   "source": [
    "X_train, X_test, y_train, y_test = train_test_split(X, y, test_size=0.33, random_state=42)"
   ]
  },
  {
   "cell_type": "code",
   "execution_count": null,
   "metadata": {},
   "outputs": [],
   "source": [
    "def analyze_age_predictions(y_true, y_pred):\n",
    "    # Calculate basic error metrics\n",
    "    mae = mean_absolute_error(y_true, y_pred)\n",
    "    rmse = np.sqrt(mean_squared_error(y_true, y_pred))\n",
    "    \n",
    "    # Calculate absolute differences for each prediction\n",
    "    differences = np.abs(y_true - y_pred)\n",
    "    \n",
    "    # Calculate median absolute error\n",
    "    median_ae = np.median(differences)\n",
    "    \n",
    "    # Calculate percentage of predictions within different year ranges\n",
    "    within_1_year = np.mean(differences <= 1) * 100\n",
    "    within_3_years = np.mean(differences <= 3) * 100\n",
    "    within_5_years = np.mean(differences <= 5) * 100\n",
    "    \n",
    "    # Calculate age-specific errors\n",
    "    age_errors = pd.DataFrame({\n",
    "        'true_age': y_true,\n",
    "        'predicted_age': y_pred,\n",
    "        'absolute_error': differences\n",
    "    })\n",
    "    \n",
    "    age_group_errors = age_errors.groupby(pd.cut(age_errors['true_age'], \n",
    "                                                bins=range(0, 101, 10)))['absolute_error'].mean()\n",
    "    \n",
    "    # Print results\n",
    "    print(f\"Average Absolute Error: {mae:.2f} years\")\n",
    "    print(f\"Root Mean Square Error: {rmse:.2f} years\")\n",
    "    print(f\"Median Absolute Error: {median_ae:.2f} years\")\n",
    "    print(f\"\\nPredictions within:\")\n",
    "    print(f\"1 year: {within_1_year:.1f}%\")\n",
    "    print(f\"3 years: {within_3_years:.1f}%\")\n",
    "    print(f\"5 years: {within_5_years:.1f}%\")\n",
    "    \n",
    "    # Create error distribution plot\n",
    "    plt.figure(figsize=(12, 6))\n",
    "    plt.hist(differences, bins=50, edgecolor='black')\n",
    "    plt.title('Distribution of Age Prediction Errors')\n",
    "    plt.xlabel('Absolute Error (Years)')\n",
    "    plt.ylabel('Frequency')\n",
    "    plt.axvline(mae, color='red', linestyle='dashed', label=f'Mean Error: {mae:.2f}')\n",
    "    plt.axvline(median_ae, color='green', linestyle='dashed', label=f'Median Error: {median_ae:.2f}')\n",
    "    plt.legend()\n",
    "    plt.show()\n",
    "    \n",
    "    # Create scatter plot of true vs predicted ages\n",
    "    plt.figure(figsize=(10, 10))\n",
    "    plt.scatter(y_true, y_pred, alpha=0.5)\n",
    "    plt.plot([0, 100], [0, 100], 'r--')  # Perfect prediction line\n",
    "    plt.xlabel('True Age')\n",
    "    plt.ylabel('Predicted Age')\n",
    "    plt.title('True vs Predicted Age')\n",
    "    plt.axis('equal')\n",
    "    plt.grid(True)\n",
    "    plt.show()\n",
    "    \n",
    "    # Print age group errors\n",
    "    print(\"\\nAverage Error by Age Group:\")\n",
    "    print(age_group_errors)\n",
    "    \n",
    "    return {\n",
    "        'mae': mae,\n",
    "        'rmse': rmse,\n",
    "        'median_ae': median_ae,\n",
    "        'within_1_year': within_1_year,\n",
    "        'within_3_years': within_3_years,\n",
    "        'within_5_years': within_5_years,\n",
    "        'age_group_errors': age_group_errors\n",
    "    }"
   ]
  },
  {
   "cell_type": "code",
   "execution_count": null,
   "metadata": {},
   "outputs": [],
   "source": [
    "import numpy as np\n",
    "from sklearn.metrics import balanced_accuracy_score, classification_report\n",
    "import tabpfn as tp\n",
    "# Split the dataset\n",
    "\n",
    "\n",
    "# Initialize the classifier\n",
    "clf = tp.TabPFNRegressor()\n",
    "# Fit the model\n",
    "clf.fit(X_train, y_train)\n",
    "\n",
    "\n",
    "y_pred = clf.predict(X_test)"
   ]
  },
  {
   "cell_type": "code",
   "execution_count": null,
   "metadata": {},
   "outputs": [],
   "source": [
    "# Calculate regression metrics\n",
    "mse = mean_squared_error(y_test, y_pred)\n",
    "rmse = np.sqrt(mse)\n",
    "mae = mean_absolute_error(y_test, y_pred)\n",
    "r2 = r2_score(y_test, y_pred)\n",
    "explained_var = explained_variance_score(y_test, y_pred)\n",
    "mape = mean_absolute_percentage_error(y_test, y_pred)\n",
    "\n",
    "# Print comprehensive regression metrics\n",
    "print(\"\\nRegression Metrics:\")\n",
    "print(f\"Root Mean Squared Error: {rmse:.4f}\")\n",
    "print(f\"Mean Absolute Error: {mae:.4f}\")\n",
    "print(f\"R² Score: {r2:.4f}\")\n",
    "print(f\"Explained Variance Score: {explained_var:.4f}\")\n",
    "print(f\"Mean Absolute Percentage Error: {mape:.4f}\")"
   ]
  },
  {
   "cell_type": "code",
   "execution_count": null,
   "metadata": {},
   "outputs": [],
   "source": [
    "analyze_age_predictions(y_test, y_pred)"
   ]
  },
  {
   "cell_type": "code",
   "execution_count": null,
   "metadata": {},
   "outputs": [],
   "source": [
    "xg_reg = XGBRegressor(random_state=42\n",
    ")\n",
    "\n",
    "# Fit the model\n",
    "xg_reg.fit(\n",
    "    X_train, \n",
    "    y_train,\n",
    ")\n",
    "\n"
   ]
  },
  {
   "cell_type": "code",
   "execution_count": null,
   "metadata": {},
   "outputs": [],
   "source": [
    "\n",
    "# Make predictions\n",
    "y_pred = xg_reg.predict(X_test)\n",
    "\n",
    "# Calculate regression metrics\n",
    "mse = mean_squared_error(y_test, y_pred)\n",
    "rmse = np.sqrt(mse)\n",
    "mae = mean_absolute_error(y_test, y_pred)\n",
    "r2 = r2_score(y_test, y_pred)\n",
    "explained_var = explained_variance_score(y_test, y_pred)\n",
    "mape = mean_absolute_percentage_error(y_test, y_pred)\n",
    "\n",
    "# Print comprehensive regression metrics\n",
    "print(\"\\nRegression Metrics:\")\n",
    "print(f\"Root Mean Squared Error: {rmse:.4f}\")\n",
    "print(f\"Mean Absolute Error: {mae:.4f}\")\n",
    "print(f\"R² Score: {r2:.4f}\")\n",
    "print(f\"Explained Variance Score: {explained_var:.4f}\")\n",
    "print(f\"Mean Absolute Percentage Error: {mape:.4f}\")"
   ]
  },
  {
   "cell_type": "code",
   "execution_count": null,
   "metadata": {},
   "outputs": [],
   "source": [
    "analyze_age_predictions(y_test, y_pred)"
   ]
  },
  {
   "cell_type": "code",
   "execution_count": null,
   "metadata": {},
   "outputs": [],
   "source": []
  }
 ],
 "metadata": {
  "kernelspec": {
   "display_name": "NAKO_CLIP",
   "language": "python",
   "name": "python3"
  },
  "language_info": {
   "codemirror_mode": {
    "name": "ipython",
    "version": 3
   },
   "file_extension": ".py",
   "mimetype": "text/x-python",
   "name": "python",
   "nbconvert_exporter": "python",
   "pygments_lexer": "ipython3",
   "version": "3.11.7"
  }
 },
 "nbformat": 4,
 "nbformat_minor": 2
}
