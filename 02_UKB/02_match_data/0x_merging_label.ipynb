{
 "cells": [
  {
   "cell_type": "code",
   "execution_count": 1,
   "id": "0",
   "metadata": {
    "tags": []
   },
   "outputs": [],
   "source": [
    "import subprocess\n",
    "import pandas as pd\n",
    "from sklearn.neighbors import NearestNeighbors\n",
    "import numpy as np"
   ]
  },
  {
   "cell_type": "code",
   "execution_count": 2,
   "id": "1",
   "metadata": {
    "tags": []
   },
   "outputs": [],
   "source": [
    "#prob_dep_multi_label_ double_dep_multi_label_ sev_dep_multi_label_  'Probably Depressed'  double_depressed severely_depressed\n",
    "df =\"NAKO_demographics_covariates.csv\"\n",
    "label = \"Age\""
   ]
  },
  {
   "cell_type": "code",
   "execution_count": 3,
   "id": "4",
   "metadata": {
    "tags": []
   },
   "outputs": [],
   "source": [
    "df = pd.read_csv(f\"../00_data/{df}\")"
   ]
  },
  {
   "cell_type": "code",
   "execution_count": 4,
   "id": "9832e7a9",
   "metadata": {},
   "outputs": [
    {
     "data": {
      "text/plain": [
       "Index(['ID', 'Sex', 'Age', 'Site'], dtype='object')"
      ]
     },
     "execution_count": 4,
     "metadata": {},
     "output_type": "execute_result"
    }
   ],
   "source": [
    "df.columns"
   ]
  },
  {
   "cell_type": "code",
   "execution_count": 5,
   "id": "9",
   "metadata": {
    "tags": []
   },
   "outputs": [],
   "source": [
    "columns_to_use = [\"ID\", 'Sex','Site']"
   ]
  },
  {
   "cell_type": "code",
   "execution_count": 6,
   "id": "10",
   "metadata": {
    "tags": []
   },
   "outputs": [],
   "source": [
    "demo = df[columns_to_use]\n",
    "label_df = df[[\"ID\", label]]"
   ]
  },
  {
   "cell_type": "code",
   "execution_count": 7,
   "id": "11",
   "metadata": {
    "tags": []
   },
   "outputs": [
    {
     "data": {
      "text/html": [
       "<div>\n",
       "<style scoped>\n",
       "    .dataframe tbody tr th:only-of-type {\n",
       "        vertical-align: middle;\n",
       "    }\n",
       "\n",
       "    .dataframe tbody tr th {\n",
       "        vertical-align: top;\n",
       "    }\n",
       "\n",
       "    .dataframe thead th {\n",
       "        text-align: right;\n",
       "    }\n",
       "</style>\n",
       "<table border=\"1\" class=\"dataframe\">\n",
       "  <thead>\n",
       "    <tr style=\"text-align: right;\">\n",
       "      <th></th>\n",
       "      <th>ID</th>\n",
       "      <th>Sex</th>\n",
       "      <th>Site</th>\n",
       "    </tr>\n",
       "  </thead>\n",
       "  <tbody>\n",
       "    <tr>\n",
       "      <th>0</th>\n",
       "      <td>100000</td>\n",
       "      <td>1</td>\n",
       "      <td>31</td>\n",
       "    </tr>\n",
       "    <tr>\n",
       "      <th>1</th>\n",
       "      <td>100001</td>\n",
       "      <td>0</td>\n",
       "      <td>31</td>\n",
       "    </tr>\n",
       "    <tr>\n",
       "      <th>2</th>\n",
       "      <td>100002</td>\n",
       "      <td>0</td>\n",
       "      <td>11</td>\n",
       "    </tr>\n",
       "    <tr>\n",
       "      <th>3</th>\n",
       "      <td>100003</td>\n",
       "      <td>0</td>\n",
       "      <td>21</td>\n",
       "    </tr>\n",
       "    <tr>\n",
       "      <th>4</th>\n",
       "      <td>100004</td>\n",
       "      <td>0</td>\n",
       "      <td>11</td>\n",
       "    </tr>\n",
       "    <tr>\n",
       "      <th>...</th>\n",
       "      <td>...</td>\n",
       "      <td>...</td>\n",
       "      <td>...</td>\n",
       "    </tr>\n",
       "    <tr>\n",
       "      <th>30922</th>\n",
       "      <td>130924</td>\n",
       "      <td>0</td>\n",
       "      <td>11</td>\n",
       "    </tr>\n",
       "    <tr>\n",
       "      <th>30923</th>\n",
       "      <td>130925</td>\n",
       "      <td>0</td>\n",
       "      <td>11</td>\n",
       "    </tr>\n",
       "    <tr>\n",
       "      <th>30924</th>\n",
       "      <td>130926</td>\n",
       "      <td>1</td>\n",
       "      <td>11</td>\n",
       "    </tr>\n",
       "    <tr>\n",
       "      <th>30925</th>\n",
       "      <td>130927</td>\n",
       "      <td>1</td>\n",
       "      <td>81</td>\n",
       "    </tr>\n",
       "    <tr>\n",
       "      <th>30926</th>\n",
       "      <td>130928</td>\n",
       "      <td>0</td>\n",
       "      <td>31</td>\n",
       "    </tr>\n",
       "  </tbody>\n",
       "</table>\n",
       "<p>30927 rows × 3 columns</p>\n",
       "</div>"
      ],
      "text/plain": [
       "           ID  Sex  Site\n",
       "0      100000    1    31\n",
       "1      100001    0    31\n",
       "2      100002    0    11\n",
       "3      100003    0    21\n",
       "4      100004    0    11\n",
       "...       ...  ...   ...\n",
       "30922  130924    0    11\n",
       "30923  130925    0    11\n",
       "30924  130926    1    11\n",
       "30925  130927    1    81\n",
       "30926  130928    0    31\n",
       "\n",
       "[30927 rows x 3 columns]"
      ]
     },
     "execution_count": 7,
     "metadata": {},
     "output_type": "execute_result"
    }
   ],
   "source": [
    "demo"
   ]
  },
  {
   "cell_type": "code",
   "execution_count": 8,
   "id": "12",
   "metadata": {
    "tags": []
   },
   "outputs": [
    {
     "name": "stderr",
     "output_type": "stream",
     "text": [
      "/tmp/ipykernel_1656036/2344452251.py:5: SettingWithCopyWarning: \n",
      "A value is trying to be set on a copy of a slice from a DataFrame\n",
      "\n",
      "See the caveats in the documentation: https://pandas.pydata.org/pandas-docs/stable/user_guide/indexing.html#returning-a-view-versus-a-copy\n",
      "  demo.rename(columns=rename_dict, inplace=True)\n"
     ]
    }
   ],
   "source": [
    "rename_dict = {\n",
    "    \"Sex\": \"sex\",\n",
    "    \"Site\" : \"assessment_centre\"\n",
    "}\n",
    "demo.rename(columns=rename_dict, inplace=True)"
   ]
  },
  {
   "cell_type": "code",
   "execution_count": 9,
   "id": "13",
   "metadata": {
    "tags": []
   },
   "outputs": [
    {
     "name": "stdout",
     "output_type": "stream",
     "text": [
      "Mapping of assessment centers to numbers:\n",
      "31: 0\n",
      "11: 1\n",
      "21: 2\n",
      "81: 3\n",
      "51: 4\n",
      "52: 5\n",
      "53: 6\n",
      "33: 7\n",
      "813: 8\n",
      "22: 9\n",
      "811: 10\n",
      "32: 11\n",
      "23: 12\n",
      "812: 13\n"
     ]
    },
    {
     "name": "stderr",
     "output_type": "stream",
     "text": [
      "/tmp/ipykernel_1656036/569741917.py:6: SettingWithCopyWarning: \n",
      "A value is trying to be set on a copy of a slice from a DataFrame.\n",
      "Try using .loc[row_indexer,col_indexer] = value instead\n",
      "\n",
      "See the caveats in the documentation: https://pandas.pydata.org/pandas-docs/stable/user_guide/indexing.html#returning-a-view-versus-a-copy\n",
      "  demo[\"assessment_centre\"] = demo[\"assessment_centre\"].map(center_mapping)\n"
     ]
    }
   ],
   "source": [
    "unique_centers = demo[\"assessment_centre\"].unique()\n",
    "center_mapping = {center: idx for idx, center in enumerate(unique_centers)}\n",
    "print(\"Mapping of assessment centers to numbers:\")\n",
    "for center, idx in center_mapping.items():\n",
    "    print(f\"{center}: {idx}\")\n",
    "demo[\"assessment_centre\"] = demo[\"assessment_centre\"].map(center_mapping)"
   ]
  },
  {
   "cell_type": "code",
   "execution_count": 10,
   "id": "14",
   "metadata": {
    "tags": []
   },
   "outputs": [
    {
     "name": "stdout",
     "output_type": "stream",
     "text": [
      "Series([], dtype: int64)\n",
      "Series([], dtype: int64)\n"
     ]
    }
   ],
   "source": [
    "nan_summary = demo.isnull().sum()\n",
    "nan_columns = nan_summary[nan_summary > 0]\n",
    "print(nan_columns)\n",
    "\n",
    "# Iterate through each column with missing values\n",
    "for col in demo.columns:\n",
    "    if demo[col].isna().any(): \n",
    "        if demo[col].dtype in ['int64', 'float64']:  # Only apply IQR method for numeric columns\n",
    "            Q1 = demo[col].quantile(0.25)  # First quartile\n",
    "            Q3 = demo[col].quantile(0.75)  # Third quartile\n",
    "            iqr_values = demo[col][(demo[col] >= Q1) & (demo[col] <= Q3)]\n",
    "            \n",
    "            if not iqr_values.empty:  # Ensure we have values to sample from\n",
    "                random_values = np.random.choice(iqr_values, size=demo[col].isnull().sum())\n",
    "                demo.loc[demo[col].isnull(), col] = random_values\n",
    "        else:  # For categorical columns, fill with mode\n",
    "            mode_value = demo[col].mode()[0]\n",
    "            demo[col].fillna(mode_value, inplace=True)\n",
    "\n",
    "# Check for remaining NaN columns\n",
    "nan_summary = demo.isnull().sum()\n",
    "nan_columns = nan_summary[nan_summary > 0]\n",
    "print(nan_columns)"
   ]
  },
  {
   "cell_type": "code",
   "execution_count": 11,
   "id": "16",
   "metadata": {
    "tags": []
   },
   "outputs": [],
   "source": [
    "merged_df = demo.merge(label_df, on=\"ID\", how=\"inner\")"
   ]
  },
  {
   "cell_type": "code",
   "execution_count": 12,
   "id": "17",
   "metadata": {
    "tags": []
   },
   "outputs": [
    {
     "data": {
      "text/plain": [
       "Index(['ID', 'sex', 'assessment_centre', 'Age'], dtype='object')"
      ]
     },
     "execution_count": 12,
     "metadata": {},
     "output_type": "execute_result"
    }
   ],
   "source": [
    "merged_df.columns"
   ]
  },
  {
   "cell_type": "code",
   "execution_count": 13,
   "id": "18",
   "metadata": {
    "tags": []
   },
   "outputs": [],
   "source": [
    "#merged_df[\"deprivation_index\"].describe()"
   ]
  },
  {
   "cell_type": "code",
   "execution_count": 14,
   "id": "19",
   "metadata": {
    "tags": []
   },
   "outputs": [],
   "source": [
    "merged_df.rename(columns={label:f\"label_{label}\"},inplace=True)"
   ]
  },
  {
   "cell_type": "code",
   "execution_count": 15,
   "id": "20",
   "metadata": {},
   "outputs": [
    {
     "data": {
      "text/plain": [
       "Index(['ID', 'sex', 'assessment_centre', 'label_Age'], dtype='object')"
      ]
     },
     "execution_count": 15,
     "metadata": {},
     "output_type": "execute_result"
    }
   ],
   "source": [
    "merged_df.columns"
   ]
  },
  {
   "cell_type": "code",
   "execution_count": 16,
   "id": "21",
   "metadata": {
    "tags": []
   },
   "outputs": [],
   "source": [
    "def match_participant(target_row, df_candidates, relax_order, used_ids,thresholds=None):\n",
    "    df_candidates = df_candidates[~df_candidates['ID'].isin(used_ids)].copy()\n",
    "    for relax_level in relax_order:\n",
    "        filtered = df_candidates.copy()\n",
    "        for criterion, match_exact in relax_level.items():\n",
    "            if criterion in ['assessment_centre']:\n",
    "                if match_exact:\n",
    "                    filtered = filtered[filtered[criterion] == target_row[criterion]]\n",
    "            elif criterion in ['sex']:\n",
    "                if match_exact:\n",
    "                    #find opposite sex\n",
    "                    filtered = filtered[filtered[criterion] != target_row[criterion]]\n",
    "            else:\n",
    "                if match_exact:\n",
    "                    diff = abs(filtered[criterion] - target_row[criterion])\n",
    "                    filtered = filtered[diff <= thresholds[criterion]]\n",
    "            if filtered.empty:\n",
    "                break\n",
    "        if not filtered.empty:\n",
    "            return filtered.iloc[0]\n",
    "    print(\"NO candidate found\")\n",
    "    return None\n",
    "\"\"\" relax_order = [\n",
    "    {'assessment_centre': True, 'deprivation_index': True, 'bmi': True, 'age_at_assessment': True, 'sex': True},\n",
    "    {'assessment_centre': False, 'deprivation_index': True, 'bmi': True, 'age_at_assessment': True, 'sex': True},\n",
    "    {'assessment_centre': False, 'deprivation_index': False, 'bmi': True, 'age_at_assessment': True, 'sex': True},\n",
    "    {'assessment_centre': False, 'deprivation_index': False, 'bmi': False, 'age_at_assessment': True, 'sex': True},\n",
    "    {'assessment_centre': False, 'deprivation_index': False, 'bmi': False, 'age_at_assessment': False, 'sex': True},\n",
    "] \"\"\"\n",
    "\"\"\" thresholds = {\n",
    "    'age_at_assessment': 2,\n",
    "    'bmi': 3,\n",
    "    'deprivation_index': 1\n",
    "}\n",
    " \"\"\"\n",
    "relax_order = [\n",
    "    {'assessment_centre': True, \"label_Age\": True},\n",
    "    {'assessment_centre': False, \"label_Age\": True},\n",
    "]\n",
    "thresholds = {\n",
    "    \"label_Age\": 2\n",
    "}"
   ]
  },
  {
   "cell_type": "code",
   "execution_count": 17,
   "id": "22",
   "metadata": {
    "tags": []
   },
   "outputs": [
    {
     "name": "stdout",
     "output_type": "stream",
     "text": [
      "label_cols: ['sex']\n"
     ]
    }
   ],
   "source": [
    "from joblib import Parallel, delayed\n",
    "import os\n",
    "def match_for_label(label, merged_df, relax_order, thresholds=None):\n",
    "    positive_group = merged_df[merged_df[label] == 1]\n",
    "    negative_group = merged_df[merged_df[label] == 0]\n",
    "\n",
    "    matches = []\n",
    "    used_ids = set() \n",
    "    for _, target_row in positive_group.iterrows():\n",
    "        matched = match_participant(target_row, negative_group, relax_order, used_ids, thresholds)\n",
    "        if matched is not None:\n",
    "            matches.append(matched)\n",
    "            used_ids.add(matched['ID'])\n",
    "    matched_df = pd.DataFrame(matches)\n",
    "    return label, matched_df, positive_group\n",
    "\n",
    "label_cols = [col for col in merged_df.columns if \"sex\" in col]\n",
    "print(f\"label_cols: {label_cols}\")\n",
    "results = Parallel(n_jobs=-1)(delayed(match_for_label)(label, merged_df, relax_order, thresholds) for label in label_cols)\n",
    "\n",
    "\n"
   ]
  },
  {
   "cell_type": "code",
   "execution_count": 18,
   "id": "96566bcc",
   "metadata": {},
   "outputs": [
    {
     "data": {
      "text/plain": [
       "1"
      ]
     },
     "execution_count": 18,
     "metadata": {},
     "output_type": "execute_result"
    }
   ],
   "source": [
    "len(results)"
   ]
  },
  {
   "cell_type": "code",
   "execution_count": 19,
   "id": "64cd214c",
   "metadata": {},
   "outputs": [
    {
     "name": "stdout",
     "output_type": "stream",
     "text": [
      "sex\n",
      "0    13616\n",
      "Name: count, dtype: int64\n",
      "sex\n",
      "1    13616\n",
      "Name: count, dtype: int64\n"
     ]
    }
   ],
   "source": [
    "for label, matched_df, positive_group in results:\n",
    "    print(matched_df[label].value_counts())\n",
    "    print(positive_group[label].value_counts())"
   ]
  },
  {
   "cell_type": "code",
   "execution_count": 20,
   "id": "23",
   "metadata": {},
   "outputs": [
    {
     "name": "stdout",
     "output_type": "stream",
     "text": [
      "Saved matched participants for sex\n"
     ]
    }
   ],
   "source": [
    "list_of_final_dfs = []\n",
    "os.makedirs(\"/zi/home/esra.lenz/Documents/00_HITKIP/00_CLIP/00_NAKO/02_Validation_of_UKB/00_data/matched_depression\", exist_ok=True)\n",
    "for label, matched_df, positive_group in results:\n",
    "    #concat the the positive and negative matched participants\n",
    "    final_df = pd.concat([positive_group, matched_df])\n",
    "    #matched_df.to_csv(f\"/zi/home/esra.lenz/Documents/00_HITKIP/00_CLIP/00_NAKO/02_Validation_of_UKB/00_data/matched_depression/matched_{label}.csv\", index=False)\n",
    "    list_of_final_dfs.append(final_df)\n",
    "    print(f\"Saved matched participants for {label}\")"
   ]
  },
  {
   "cell_type": "code",
   "execution_count": 21,
   "id": "3a78cd83",
   "metadata": {},
   "outputs": [],
   "source": [
    "df = list_of_final_dfs[0]"
   ]
  },
  {
   "cell_type": "code",
   "execution_count": 22,
   "id": "2a31b1fc",
   "metadata": {},
   "outputs": [
    {
     "data": {
      "text/plain": [
       "<Axes: >"
      ]
     },
     "execution_count": 22,
     "metadata": {},
     "output_type": "execute_result"
    },
    {
     "data": {
      "image/png": "[encoded data removed]",
      "text/plain": [
       "<Figure size 640x480 with 1 Axes>"
      ]
     },
     "metadata": {},
     "output_type": "display_data"
    }
   ],
   "source": [
    "df[df[\"sex\"] == 0][\"label_Age\"].hist()"
   ]
  },
  {
   "cell_type": "code",
   "execution_count": 23,
   "id": "5a719214",
   "metadata": {},
   "outputs": [
    {
     "data": {
      "text/plain": [
       "<Axes: >"
      ]
     },
     "execution_count": 23,
     "metadata": {},
     "output_type": "execute_result"
    },
    {
     "data": {
      "image/png": "[encoded data removed]",
      "text/plain": [
       "<Figure size 640x480 with 1 Axes>"
      ]
     },
     "metadata": {},
     "output_type": "display_data"
    }
   ],
   "source": [
    "df[df[\"sex\"] == 1][\"label_Age\"].hist()"
   ]
  },
  {
   "cell_type": "code",
   "execution_count": 24,
   "id": "afca2828",
   "metadata": {},
   "outputs": [],
   "source": [
    "df.to_csv(\"../00_data/age_label/all_ages.csv\", index=False)"
   ]
  },
  {
   "cell_type": "code",
   "execution_count": 127,
   "id": "26",
   "metadata": {},
   "outputs": [],
   "source": [
    "from typing import List\n",
    "def balance_dataframe(df: pd.DataFrame, label_col: str, sex_col: str, sort_col: List[str], ascending: List[bool] = [True]) -> pd.DataFrame:\n",
    "    \"\"\"\n",
    "    Balances a DataFrame by equalizing the number of male and female entries in the positive class.\n",
    "    \n",
    "    Args:\n",
    "    - df (pd.DataFrame): The input DataFrame.\n",
    "    - label_col (str): The name of the column containing the binary labels (0 or 1).\n",
    "    - sex_col (str): The name of the column containing the sex indicator (0 for women, 1 for men).\n",
    "    - sort_col (str): The column to sort by when dropping excess rows from the dominant sex.\n",
    "    \n",
    "    Returns:\n",
    "    - pd.DataFrame: The balanced DataFrame with an equal number of men and women in the positive class.\n",
    "    \"\"\"\n",
    "    # Separate the false and positive classes\n",
    "    df_false = df[df[label_col] == 0].reset_index(drop=True)\n",
    "    df_pos = df[df[label_col] == 1].reset_index(drop=True)\n",
    "    \n",
    "    # Count the number of men and women in the positive class\n",
    "    count_men = len(df_pos[df_pos[sex_col] == 1])\n",
    "    count_women = len(df_pos[df_pos[sex_col] == 0])\n",
    "    \n",
    "    # Calculate the difference and identify the dominant class (1 for men, 0 for women)\n",
    "    difference = abs(count_men - count_women)\n",
    "    dominant_class = int(count_men > count_women)\n",
    "    \n",
    "    # Sort the positive class by the specified column\n",
    "    pos_sorted_for_units_ascending = df_pos.sort_values(by=sort_col, ascending=ascending)\n",
    "    \n",
    "    # Get the dominant class subset and drop the excess indices\n",
    "    just_dominant_class = pos_sorted_for_units_ascending[pos_sorted_for_units_ascending[sex_col] == dominant_class]\n",
    "    drop_indices = just_dominant_class.index[:difference]\n",
    "    \n",
    "    # Drop the excess indices from both the positive and false class DataFrames\n",
    "    df_pos = df_pos.drop(drop_indices).reset_index(drop=True)\n",
    "    df_false = df_false.drop(drop_indices).reset_index(drop=True)\n",
    "    \n",
    "    # Concatenate the balanced DataFrame\n",
    "    df_balanced = pd.concat([df_pos, df_false]).reset_index(drop=True)\n",
    "    \n",
    "    return df_balanced\n",
    "\n",
    "\n"
   ]
  },
  {
   "cell_type": "code",
   "execution_count": 133,
   "id": "27",
   "metadata": {},
   "outputs": [
    {
     "name": "stdout",
     "output_type": "stream",
     "text": [
      "#####\n",
      "VALUE COUNT: label_diagnosis_depression_3\n",
      "1    546\n",
      "0    546\n",
      "Name: count, dtype: int64\n",
      "VALUE COUNT: sex\n",
      "0    546\n",
      "1    546\n",
      "Name: count, dtype: int64\n",
      "\n"
     ]
    }
   ],
   "source": [
    "os.makedirs(\"/zi/home/esra.lenz/Documents/00_HITKIP/00_CLIP/00_NAKO/02_Validation_of_UKB/00_data/sex_balanced_labels_depression/\", exist_ok=True)\n",
    "for final_df, label in zip(list_of_final_dfs, label_cols):\n",
    "    gender_balanced_df = balance_dataframe(final_df, label, \"sex\", sort_col=\"a_emo_phq9_sum\", ascending=True)\n",
    "    print(f\"#####\\nVALUE COUNT: {gender_balanced_df[label].value_counts()}\")\n",
    "    print(f\"VALUE COUNT: {gender_balanced_df['sex'].value_counts()}\\n\")\n",
    "    gender_balanced_df.to_csv(f\"/zi/home/esra.lenz/Documents/00_HITKIP/00_CLIP/00_NAKO/02_Validation_of_UKB/00_data/sex_balanced_labels_depression/sex_balanced_{label}.csv\", index=False, mode='w')\n",
    "\n",
    "    "
   ]
  },
  {
   "cell_type": "code",
   "execution_count": 134,
   "id": "28",
   "metadata": {},
   "outputs": [
    {
     "data": {
      "text/plain": [
       "<Axes: >"
      ]
     },
     "execution_count": 134,
     "metadata": {},
     "output_type": "execute_result"
    },
    {
     "data": {
      "image/png": "[encoded data removed]",
      "text/plain": [
       "<Figure size 640x480 with 1 Axes>"
      ]
     },
     "metadata": {},
     "output_type": "display_data"
    }
   ],
   "source": [
    "gender_balanced_df[\"a_emo_phq9_sum\"].hist()"
   ]
  },
  {
   "cell_type": "code",
   "execution_count": null,
   "id": "d4128e9b",
   "metadata": {},
   "outputs": [],
   "source": []
  }
 ],
 "metadata": {
  "kernelspec": {
   "display_name": "NAKO_CLIP",
   "language": "python",
   "name": "python3"
  },
  "language_info": {
   "codemirror_mode": {
    "name": "ipython",
    "version": 3
   },
   "file_extension": ".py",
   "mimetype": "text/x-python",
   "name": "python",
   "nbconvert_exporter": "python",
   "pygments_lexer": "ipython3",
   "version": "3.11.7"
  }
 },
 "nbformat": 4,
 "nbformat_minor": 5
}
