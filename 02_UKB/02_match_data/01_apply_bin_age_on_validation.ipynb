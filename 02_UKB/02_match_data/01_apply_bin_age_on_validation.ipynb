{
 "cells": [
  {
   "cell_type": "code",
   "execution_count": 12,
   "metadata": {},
   "outputs": [],
   "source": [
    "import pandas as pd\n",
    "import os"
   ]
  },
  {
   "cell_type": "code",
   "execution_count": null,
   "metadata": {},
   "outputs": [],
   "source": [
    "\"\"\" Group 0: (44, 47]\n",
    "Group 1: (47, 50]\n",
    "Group 2: (50, 53]\n",
    "Group 3: (53, 56]\n",
    "Group 4: (56, 59]\n",
    "Group 5: (59, 62]\n",
    "Group 6: (62, 65]\n",
    "Group 7: (65, 68]\n",
    "Group 8: (68, 71]\n",
    "Group 9: (71, 74] \"\"\""
   ]
  },
  {
   "cell_type": "code",
   "execution_count": 22,
   "metadata": {},
   "outputs": [],
   "source": [
    "#bins = [44, 54, 64, 74, 84]  # Exact bins\n",
    "bins = [44, 47, 50, 53, 56, 59, 62, 65, 68, 71, 74]  # Bins with 3 years interval\n",
    "#get labes by making a range starting 0 in length of bins\n",
    "labels = list(range(len(bins)-1))"
   ]
  },
  {
   "cell_type": "code",
   "execution_count": 23,
   "metadata": {},
   "outputs": [
    {
     "name": "stdout",
     "output_type": "stream",
     "text": [
      "edges 74 44\n"
     ]
    }
   ],
   "source": [
    "#get max from bins\n",
    "max_bin = max(bins)\n",
    "min_bin = min(bins)\n",
    "print(f\"edges {max_bin} {min_bin}\")"
   ]
  },
  {
   "cell_type": "code",
   "execution_count": 24,
   "metadata": {},
   "outputs": [],
   "source": [
    "df = pd.read_csv(f\"../00_data/validation_data/00_National_Cohort/01_labels/all_ages_healthy.csv\")"
   ]
  },
  {
   "cell_type": "code",
   "execution_count": 25,
   "metadata": {},
   "outputs": [
    {
     "data": {
      "text/plain": [
       "74"
      ]
     },
     "execution_count": 25,
     "metadata": {},
     "output_type": "execute_result"
    }
   ],
   "source": [
    "df[\"label_Age\"].max()"
   ]
  },
  {
   "cell_type": "code",
   "execution_count": 26,
   "metadata": {},
   "outputs": [
    {
     "name": "stdout",
     "output_type": "stream",
     "text": [
      "label_age_group\n",
      "1    1812\n",
      "0    1622\n",
      "2    1508\n",
      "3    1283\n",
      "6    1171\n",
      "4    1068\n",
      "5    1049\n",
      "7     957\n",
      "8     429\n",
      "9      25\n",
      "Name: count, dtype: int64\n"
     ]
    }
   ],
   "source": [
    "df = df[(df['label_Age'] > min_bin) & (df['label_Age'] <= max_bin)]\n",
    "df['label_age_group'] = pd.cut(df['label_Age'], bins=bins, labels=labels, right=True)\n",
    "print(df['label_age_group'].value_counts())\n",
    "df.to_csv(f\"../00_data/validation_data/00_National_Cohort/all_ages_all_ids_subset_middle_age.csv\", index=False)"
   ]
  },
  {
   "cell_type": "code",
   "execution_count": 27,
   "metadata": {},
   "outputs": [
    {
     "data": {
      "text/plain": [
       "<Axes: >"
      ]
     },
     "execution_count": 27,
     "metadata": {},
     "output_type": "execute_result"
    },
    {
     "data": {
      "image/png": "[encoded data removed]",
      "text/plain": [
       "<Figure size 640x480 with 1 Axes>"
      ]
     },
     "metadata": {},
     "output_type": "display_data"
    }
   ],
   "source": [
    "df[\"label_Age\"].hist()"
   ]
  }
 ],
 "metadata": {
  "kernelspec": {
   "display_name": "Python 3",
   "language": "python",
   "name": "python3"
  },
  "language_info": {
   "codemirror_mode": {
    "name": "ipython",
    "version": 3
   },
   "file_extension": ".py",
   "mimetype": "text/x-python",
   "name": "python",
   "nbconvert_exporter": "python",
   "pygments_lexer": "ipython3",
   "version": "3.12.3"
  }
 },
 "nbformat": 4,
 "nbformat_minor": 2
}
