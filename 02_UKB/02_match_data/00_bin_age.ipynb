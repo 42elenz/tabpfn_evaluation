{
 "cells": [
  {
   "cell_type": "code",
   "execution_count": 4,
   "metadata": {},
   "outputs": [],
   "source": [
    "import pandas as pd"
   ]
  },
  {
   "cell_type": "code",
   "execution_count": 5,
   "metadata": {},
   "outputs": [],
   "source": [
    "df = pd.read_csv(\"../00_data/age_label/all_ages_healthy.csv\")"
   ]
  },
  {
   "cell_type": "code",
   "execution_count": 16,
   "metadata": {},
   "outputs": [
    {
     "name": "stdout",
     "output_type": "stream",
     "text": [
      "Max age: 83\n",
      "Age group mappings:\n",
      "Group 0: (44, 47]\n",
      "Group 1: (47, 50]\n",
      "Group 2: (50, 53]\n",
      "Group 3: (53, 56]\n",
      "Group 4: (56, 59]\n",
      "Group 5: (59, 62]\n",
      "Group 6: (62, 65]\n",
      "Group 7: (65, 68]\n",
      "Group 8: (68, 71]\n",
      "Group 9: (71, 74]\n",
      "\n",
      "Value counts:\n",
      "label_age_group\n",
      "0.0     168\n",
      "1.0    1425\n",
      "2.0    3299\n",
      "3.0    4120\n",
      "4.0    4681\n",
      "5.0    5436\n",
      "6.0    5894\n",
      "7.0    6350\n",
      "8.0    6400\n",
      "9.0    4690\n",
      "Name: count, dtype: int64\n"
     ]
    },
    {
     "name": "stderr",
     "output_type": "stream",
     "text": [
      "/tmp/ipykernel_17307/3379216480.py:12: SettingWithCopyWarning: \n",
      "A value is trying to be set on a copy of a slice from a DataFrame.\n",
      "Try using .loc[row_indexer,col_indexer] = value instead\n",
      "\n",
      "See the caveats in the documentation: https://pandas.pydata.org/pandas-docs/stable/user_guide/indexing.html#returning-a-view-versus-a-copy\n",
      "  df['label_age_group'] = pd.cut(df['label_Age'], bins=bins, labels=False)\n"
     ]
    }
   ],
   "source": [
    "bin_size = 3\n",
    "max_age = df['label_Age'].max()\n",
    "print(f\"Max age: {max_age}\")\n",
    "max_age = 74\n",
    "print(f\"Max age set to: {max_age}\")\n",
    "min_age = df['label_Age'].min()\n",
    "\n",
    "df = df[df['label_Age'] <= max_age]\n",
    "# Create bins starting from the minimum age\n",
    "bins = list(range(int(min_age), int(max_age) + bin_size, bin_size))\n",
    "\n",
    "# Create age group labels\n",
    "df['label_age_group'] = pd.cut(df['label_Age'], bins=bins, labels=False)\n",
    "\n",
    "# Print the actual age ranges for each group\n",
    "age_ranges = pd.cut(df['label_Age'], bins=bins)\n",
    "print(\"Age group mappings:\")\n",
    "for i, category in enumerate(age_ranges.cat.categories):\n",
    "    print(f\"Group {i}: {category}\")\n",
    "\n",
    "print(\"\\nValue counts:\")\n",
    "print(df[\"label_age_group\"].value_counts().sort_index())"
   ]
  },
  {
   "cell_type": "code",
   "execution_count": 18,
   "metadata": {},
   "outputs": [
    {
     "data": {
      "text/plain": [
       "<Axes: >"
      ]
     },
     "execution_count": 18,
     "metadata": {},
     "output_type": "execute_result"
    },
    {
     "data": {
      "image/png": "[encoded data removed]",
      "text/plain": [
       "<Figure size 640x480 with 1 Axes>"
      ]
     },
     "metadata": {},
     "output_type": "display_data"
    }
   ],
   "source": [
    "df[\"label_Age\"].hist()"
   ]
  },
  {
   "cell_type": "code",
   "execution_count": 19,
   "metadata": {},
   "outputs": [],
   "source": [
    "df.to_csv(\"../00_data/age_label/all_ages_all_ids_healthy.csv\", index=False)\n"
   ]
  },
  {
   "cell_type": "code",
   "execution_count": null,
   "metadata": {},
   "outputs": [],
   "source": [
    "#df.to_csv(\"../00_data/age_label/all_ages.csv\", index=False)"
   ]
  }
 ],
 "metadata": {
  "kernelspec": {
   "display_name": "Python 3",
   "language": "python",
   "name": "python3"
  },
  "language_info": {
   "codemirror_mode": {
    "name": "ipython",
    "version": 3
   },
   "file_extension": ".py",
   "mimetype": "text/x-python",
   "name": "python",
   "nbconvert_exporter": "python",
   "pygments_lexer": "ipython3",
   "version": "3.12.3"
  }
 },
 "nbformat": 4,
 "nbformat_minor": 2
}
