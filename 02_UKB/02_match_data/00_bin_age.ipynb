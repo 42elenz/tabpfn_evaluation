{
 "cells": [
  {
   "cell_type": "code",
   "execution_count": null,
   "metadata": {},
   "outputs": [],
   "source": [
    "import pandas as pd"
   ]
  },
  {
   "cell_type": "code",
   "execution_count": null,
   "metadata": {},
   "outputs": [],
   "source": [
    "df = pd.read_csv(\"../00_data/age_label/all_ages_healthy.csv\")"
   ]
  },
  {
   "cell_type": "code",
   "execution_count": null,
   "metadata": {},
   "outputs": [],
   "source": [
    "df"
   ]
  },
  {
   "cell_type": "code",
   "execution_count": null,
   "metadata": {},
   "outputs": [],
   "source": [
    "bin_size = 10\n",
    "max_age = df['label_Age'].max()\n",
    "min_age = df['label_Age'].min()\n",
    "\n",
    "# Create bins starting from the minimum age\n",
    "bins = list(range(int(min_age), int(max_age) + bin_size, bin_size))\n",
    "\n",
    "# Create age group labels\n",
    "df['label_age_group'] = pd.cut(df['label_Age'], bins=bins, labels=False)\n",
    "\n",
    "# Print the actual age ranges for each group\n",
    "age_ranges = pd.cut(df['label_Age'], bins=bins)\n",
    "print(\"Age group mappings:\")\n",
    "for i, category in enumerate(age_ranges.cat.categories):\n",
    "    print(f\"Group {i}: {category}\")\n",
    "\n",
    "print(\"\\nValue counts:\")\n",
    "print(df[\"label_age_group\"].value_counts().sort_index())"
   ]
  },
  {
   "cell_type": "code",
   "execution_count": null,
   "metadata": {},
   "outputs": [],
   "source": [
    "df[\"label_Age\"].hist()"
   ]
  },
  {
   "cell_type": "code",
   "execution_count": null,
   "metadata": {},
   "outputs": [],
   "source": [
    "df.to_csv(\"../00_data/age_label/all_ages_all_ids_healthy.csv\", index=False)\n"
   ]
  },
  {
   "cell_type": "code",
   "execution_count": null,
   "metadata": {},
   "outputs": [],
   "source": [
    "#df.to_csv(\"../00_data/age_label/all_ages.csv\", index=False)"
   ]
  }
 ],
 "metadata": {
  "kernelspec": {
   "display_name": "Python 3",
   "language": "python",
   "name": "python3"
  },
  "language_info": {
   "codemirror_mode": {
    "name": "ipython",
    "version": 3
   },
   "file_extension": ".py",
   "mimetype": "text/x-python",
   "name": "python",
   "nbconvert_exporter": "python",
   "pygments_lexer": "ipython3",
   "version": "3.12.3"
  }
 },
 "nbformat": 4,
 "nbformat_minor": 2
}
