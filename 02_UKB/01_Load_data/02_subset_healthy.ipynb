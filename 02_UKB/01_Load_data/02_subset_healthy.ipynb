{
 "cells": [
  {
   "cell_type": "code",
   "execution_count": 9,
   "metadata": {},
   "outputs": [],
   "source": [
    "import pandas as pd\n"
   ]
  },
  {
   "cell_type": "code",
   "execution_count": 10,
   "metadata": {},
   "outputs": [],
   "source": [
    "csv_path = \"../00_data/UKB_demographics_covariates.csv\"\n",
    "merged_df = pd.read_csv(csv_path)\n",
    "merged_df[\"ID\"] = merged_df[\"ID\"].astype(str)"
   ]
  },
  {
   "cell_type": "code",
   "execution_count": 11,
   "metadata": {},
   "outputs": [],
   "source": [
    "merged_df.to_csv(\"../00_data/UKB_demographics_covariates_subset_healthy.csv\", index=False)\n",
    "merged_df.rename(columns={\"Age\": \"label_Age\"}, inplace=True)\n",
    "merged_df.to_csv(\"../00_data/age_label/all_ages_healthy.csv\", index=False)"
   ]
  },
  {
   "cell_type": "code",
   "execution_count": null,
   "metadata": {},
   "outputs": [],
   "source": [
    "#MERGE LABEL COL CLINICAL HERE TO DROP"
   ]
  },
  {
   "cell_type": "code",
   "execution_count": 7,
   "metadata": {},
   "outputs": [
    {
     "name": "stdout",
     "output_type": "stream",
     "text": [
      "ID\n",
      "Sex\n",
      "Age\n",
      "Site\n"
     ]
    }
   ],
   "source": [
    "for col in merged_df.columns:\n",
    "    print(col)"
   ]
  },
  {
   "cell_type": "code",
   "execution_count": 37,
   "metadata": {},
   "outputs": [
    {
     "name": "stderr",
     "output_type": "stream",
     "text": [
      "/tmp/ipykernel_2110521/1522020995.py:25: SettingWithCopyWarning: \n",
      "A value is trying to be set on a copy of a slice from a DataFrame.\n",
      "Try using .loc[row_indexer,col_indexer] = value instead\n",
      "\n",
      "See the caveats in the documentation: https://pandas.pydata.org/pandas-docs/stable/user_guide/indexing.html#returning-a-view-versus-a-copy\n",
      "  filtered_df[f'diagnosis_{diagnosis_crit}_{thresh}'] = filtered_df.apply(\n",
      "/tmp/ipykernel_2110521/1522020995.py:25: SettingWithCopyWarning: \n",
      "A value is trying to be set on a copy of a slice from a DataFrame.\n",
      "Try using .loc[row_indexer,col_indexer] = value instead\n",
      "\n",
      "See the caveats in the documentation: https://pandas.pydata.org/pandas-docs/stable/user_guide/indexing.html#returning-a-view-versus-a-copy\n",
      "  filtered_df[f'diagnosis_{diagnosis_crit}_{thresh}'] = filtered_df.apply(\n",
      "/tmp/ipykernel_2110521/1522020995.py:25: SettingWithCopyWarning: \n",
      "A value is trying to be set on a copy of a slice from a DataFrame.\n",
      "Try using .loc[row_indexer,col_indexer] = value instead\n",
      "\n",
      "See the caveats in the documentation: https://pandas.pydata.org/pandas-docs/stable/user_guide/indexing.html#returning-a-view-versus-a-copy\n",
      "  filtered_df[f'diagnosis_{diagnosis_crit}_{thresh}'] = filtered_df.apply(\n",
      "/tmp/ipykernel_2110521/1522020995.py:31: SettingWithCopyWarning: \n",
      "A value is trying to be set on a copy of a slice from a DataFrame.\n",
      "Try using .loc[row_indexer,col_indexer] = value instead\n",
      "\n",
      "See the caveats in the documentation: https://pandas.pydata.org/pandas-docs/stable/user_guide/indexing.html#returning-a-view-versus-a-copy\n",
      "  filtered_df[f'diagnosis_{diagnosis_crit}_{thresh}'] = filtered_df.apply(\n",
      "/tmp/ipykernel_2110521/1522020995.py:31: SettingWithCopyWarning: \n",
      "A value is trying to be set on a copy of a slice from a DataFrame.\n",
      "Try using .loc[row_indexer,col_indexer] = value instead\n",
      "\n",
      "See the caveats in the documentation: https://pandas.pydata.org/pandas-docs/stable/user_guide/indexing.html#returning-a-view-versus-a-copy\n",
      "  filtered_df[f'diagnosis_{diagnosis_crit}_{thresh}'] = filtered_df.apply(\n",
      "/tmp/ipykernel_2110521/1522020995.py:31: SettingWithCopyWarning: \n",
      "A value is trying to be set on a copy of a slice from a DataFrame.\n",
      "Try using .loc[row_indexer,col_indexer] = value instead\n",
      "\n",
      "See the caveats in the documentation: https://pandas.pydata.org/pandas-docs/stable/user_guide/indexing.html#returning-a-view-versus-a-copy\n",
      "  filtered_df[f'diagnosis_{diagnosis_crit}_{thresh}'] = filtered_df.apply(\n",
      "/tmp/ipykernel_2110521/1522020995.py:36: SettingWithCopyWarning: \n",
      "A value is trying to be set on a copy of a slice from a DataFrame.\n",
      "Try using .loc[row_indexer,col_indexer] = value instead\n",
      "\n",
      "See the caveats in the documentation: https://pandas.pydata.org/pandas-docs/stable/user_guide/indexing.html#returning-a-view-versus-a-copy\n",
      "  filtered_df[f'diagnosis_{diagnosis_crit}_{thresh}'] = filtered_df.apply(\n",
      "/tmp/ipykernel_2110521/1522020995.py:36: SettingWithCopyWarning: \n",
      "A value is trying to be set on a copy of a slice from a DataFrame.\n",
      "Try using .loc[row_indexer,col_indexer] = value instead\n",
      "\n",
      "See the caveats in the documentation: https://pandas.pydata.org/pandas-docs/stable/user_guide/indexing.html#returning-a-view-versus-a-copy\n",
      "  filtered_df[f'diagnosis_{diagnosis_crit}_{thresh}'] = filtered_df.apply(\n",
      "/tmp/ipykernel_2110521/1522020995.py:36: SettingWithCopyWarning: \n",
      "A value is trying to be set on a copy of a slice from a DataFrame.\n",
      "Try using .loc[row_indexer,col_indexer] = value instead\n",
      "\n",
      "See the caveats in the documentation: https://pandas.pydata.org/pandas-docs/stable/user_guide/indexing.html#returning-a-view-versus-a-copy\n",
      "  filtered_df[f'diagnosis_{diagnosis_crit}_{thresh}'] = filtered_df.apply(\n",
      "/tmp/ipykernel_2110521/1522020995.py:41: SettingWithCopyWarning: \n",
      "A value is trying to be set on a copy of a slice from a DataFrame.\n",
      "Try using .loc[row_indexer,col_indexer] = value instead\n",
      "\n",
      "See the caveats in the documentation: https://pandas.pydata.org/pandas-docs/stable/user_guide/indexing.html#returning-a-view-versus-a-copy\n",
      "  filtered_df[f'diagnosis_{diagnosis_crit}_{thresh}'] = filtered_df.apply(\n",
      "/tmp/ipykernel_2110521/1522020995.py:41: SettingWithCopyWarning: \n",
      "A value is trying to be set on a copy of a slice from a DataFrame.\n",
      "Try using .loc[row_indexer,col_indexer] = value instead\n",
      "\n",
      "See the caveats in the documentation: https://pandas.pydata.org/pandas-docs/stable/user_guide/indexing.html#returning-a-view-versus-a-copy\n",
      "  filtered_df[f'diagnosis_{diagnosis_crit}_{thresh}'] = filtered_df.apply(\n",
      "/tmp/ipykernel_2110521/1522020995.py:41: SettingWithCopyWarning: \n",
      "A value is trying to be set on a copy of a slice from a DataFrame.\n",
      "Try using .loc[row_indexer,col_indexer] = value instead\n",
      "\n",
      "See the caveats in the documentation: https://pandas.pydata.org/pandas-docs/stable/user_guide/indexing.html#returning-a-view-versus-a-copy\n",
      "  filtered_df[f'diagnosis_{diagnosis_crit}_{thresh}'] = filtered_df.apply(\n",
      "/tmp/ipykernel_2110521/1522020995.py:46: SettingWithCopyWarning: \n",
      "A value is trying to be set on a copy of a slice from a DataFrame.\n",
      "Try using .loc[row_indexer,col_indexer] = value instead\n",
      "\n",
      "See the caveats in the documentation: https://pandas.pydata.org/pandas-docs/stable/user_guide/indexing.html#returning-a-view-versus-a-copy\n",
      "  filtered_df[f'diagnosis_{diagnosis_crit}_{thresh}'] = filtered_df.apply(\n",
      "/tmp/ipykernel_2110521/1522020995.py:46: SettingWithCopyWarning: \n",
      "A value is trying to be set on a copy of a slice from a DataFrame.\n",
      "Try using .loc[row_indexer,col_indexer] = value instead\n",
      "\n",
      "See the caveats in the documentation: https://pandas.pydata.org/pandas-docs/stable/user_guide/indexing.html#returning-a-view-versus-a-copy\n",
      "  filtered_df[f'diagnosis_{diagnosis_crit}_{thresh}'] = filtered_df.apply(\n"
     ]
    }
   ],
   "source": [
    "\n",
    "# Filter the dataframe\n",
    "merged_df = merged_df[merged_df[\"a_diag_epilep\"] == 0]\n",
    "merged_df = merged_df[merged_df[\"a_diag_parkinson\"] == 0]\n",
    "filtered_df = merged_df[\n",
    "    (merged_df[\"a_emo_phq9_kat\"] != 7777) &\n",
    "    (merged_df[\"a_emo_gad7_dia\"] != 9999) &\n",
    "    (merged_df[\"a_alk_rein\"] > 0) &\n",
    "    (merged_df[\"a_alk_konsum\"] != -99) &\n",
    "    (merged_df[\"a_alk_audit_c\"] != -99) &\n",
    "    (merged_df[\"a_smok_stat_noint\"].isin([1, 2])) &\n",
    "    (merged_df[\"a_anthro_bmi\"] != 7777)\n",
    "    \n",
    "]\n",
    "\n",
    "all_diagnoses = [\n",
    "    (\"depression_and_angst\", 2), (\"depression_and_angst\", 3), (\"depression_and_angst\", 4),\n",
    "    (\"depression\", 2), (\"depression\", 3), (\"depression\", 4),\n",
    "    (\"angst\", 2), (\"angst\", 3), (\"angst\", 4),\n",
    "    (\"alkohol\", 70), (\"alkohol\", 80), (\"alkohol\", 90),\n",
    "    (\"alkohol_audit\", 9), (\"alkohol_audit\", 10)  # ,  (\"alkohol_audit\", 11)\n",
    "]\n",
    "\n",
    "for diagnosis_crit, thresh in all_diagnoses:\n",
    "    if diagnosis_crit == \"depression_and_angst\":\n",
    "        filtered_df[f'diagnosis_{diagnosis_crit}_{thresh}'] = filtered_df.apply(\n",
    "            lambda row: 1 if (row['a_emo_phq9_kat'] >= thresh) or \\\n",
    "                             (row['a_emo_gad7_dia'] >= thresh) else 0,\n",
    "            axis=1\n",
    "        )\n",
    "    elif diagnosis_crit == \"depression\":\n",
    "        filtered_df[f'diagnosis_{diagnosis_crit}_{thresh}'] = filtered_df.apply(\n",
    "            lambda row: 1 if row['a_emo_phq9_kat'] >= thresh else 0,\n",
    "            axis=1\n",
    "        )\n",
    "    elif diagnosis_crit == \"angst\":\n",
    "        filtered_df[f'diagnosis_{diagnosis_crit}_{thresh}'] = filtered_df.apply(\n",
    "            lambda row: 1 if row['a_emo_gad7_dia'] >= thresh else 0,\n",
    "            axis=1\n",
    "        )\n",
    "    elif diagnosis_crit == \"alkohol\":\n",
    "        filtered_df[f'diagnosis_{diagnosis_crit}_{thresh}'] = filtered_df.apply(\n",
    "            lambda row: 1 if row['a_alk_rein'] >= thresh and row['a_alk_konsum'] == 2 else 0,\n",
    "            axis=1\n",
    "        )\n",
    "    elif diagnosis_crit == \"alkohol_audit\":\n",
    "        filtered_df[f'diagnosis_{diagnosis_crit}_{thresh}'] = filtered_df.apply(\n",
    "            lambda row: 1 if row['a_alk_audit_c'] >= thresh else 0,\n",
    "            axis=1\n",
    "        )\n",
    "        "
   ]
  },
  {
   "cell_type": "code",
   "execution_count": 38,
   "metadata": {},
   "outputs": [
    {
     "name": "stderr",
     "output_type": "stream",
     "text": [
      "/tmp/ipykernel_2110521/1333744814.py:2: SettingWithCopyWarning: \n",
      "A value is trying to be set on a copy of a slice from a DataFrame.\n",
      "Try using .loc[row_indexer,col_indexer] = value instead\n",
      "\n",
      "See the caveats in the documentation: https://pandas.pydata.org/pandas-docs/stable/user_guide/indexing.html#returning-a-view-versus-a-copy\n",
      "  filtered_df[\"healthy\"] = filtered_df.apply(\n"
     ]
    }
   ],
   "source": [
    "#wen all diagnose are zero set health col to 1\n",
    "filtered_df[\"healthy\"] = filtered_df.apply(\n",
    "    lambda row: 1 if sum([row[f'diagnosis_{diagnosis_crit}_{thresh}'] for diagnosis_crit, thresh in all_diagnoses]) == 0 else 0,\n",
    "    axis=1\n",
    ")"
   ]
  },
  {
   "cell_type": "code",
   "execution_count": 39,
   "metadata": {},
   "outputs": [],
   "source": [
    "Healthy_people = filtered_df[filtered_df[\"healthy\"] == 1]"
   ]
  },
  {
   "cell_type": "code",
   "execution_count": 40,
   "metadata": {},
   "outputs": [
    {
     "data": {
      "text/plain": [
       "30927"
      ]
     },
     "execution_count": 40,
     "metadata": {},
     "output_type": "execute_result"
    }
   ],
   "source": [
    "age_df = pd.read_csv(\"/zi/home/esra.lenz/Documents/00_HITKIP/09_TABPFN/00_NAKO/00_data/age_label/all_ages_all_ids.csv\")\n",
    "if \"Unnamed: 0\" in age_df.columns:\n",
    "    age_df.drop(columns=[\"Unnamed: 0\"], inplace=True)\n",
    "len(age_df)"
   ]
  },
  {
   "cell_type": "code",
   "execution_count": 41,
   "metadata": {},
   "outputs": [],
   "source": [
    "#merge the ID for healthy people\n",
    "age_df[\"ID\"] = age_df[\"ID\"].astype(str)\n",
    "merged_df = pd.merge(age_df, Healthy_people, on=\"ID\", how=\"inner\")\n",
    "final_all_ages = merged_df[age_df.columns]"
   ]
  },
  {
   "cell_type": "code",
   "execution_count": 42,
   "metadata": {},
   "outputs": [
    {
     "data": {
      "text/plain": [
       "16364"
      ]
     },
     "execution_count": 42,
     "metadata": {},
     "output_type": "execute_result"
    }
   ],
   "source": [
    "len(final_all_ages)"
   ]
  },
  {
   "cell_type": "code",
   "execution_count": 43,
   "metadata": {},
   "outputs": [
    {
     "name": "stderr",
     "output_type": "stream",
     "text": [
      "/tmp/ipykernel_2110521/1441495901.py:1: SettingWithCopyWarning: \n",
      "A value is trying to be set on a copy of a slice from a DataFrame\n",
      "\n",
      "See the caveats in the documentation: https://pandas.pydata.org/pandas-docs/stable/user_guide/indexing.html#returning-a-view-versus-a-copy\n",
      "  final_all_ages.rename(columns={\"Age\": \"label_Age\"}, inplace=True)\n"
     ]
    }
   ],
   "source": [
    "final_all_ages.rename(columns={\"Age\": \"label_Age\"}, inplace=True)"
   ]
  },
  {
   "cell_type": "code",
   "execution_count": 44,
   "metadata": {},
   "outputs": [],
   "source": [
    "#save the merged df as all ages.csv\n",
    "final_all_ages.to_csv(\"/zi/home/esra.lenz/Documents/00_HITKIP/09_TABPFN/00_NAKO/00_data/age_label/all_ages_healthy.csv\", index=False)"
   ]
  },
  {
   "cell_type": "code",
   "execution_count": 45,
   "metadata": {},
   "outputs": [
    {
     "data": {
      "text/plain": [
       "30927"
      ]
     },
     "execution_count": 45,
     "metadata": {},
     "output_type": "execute_result"
    }
   ],
   "source": [
    "demographics = pd.read_csv(\"/zi/home/esra.lenz/Documents/00_HITKIP/09_TABPFN/00_NAKO/00_data/NAKO_demographics_covariates.csv\")\n",
    "len(demographics)"
   ]
  },
  {
   "cell_type": "code",
   "execution_count": 46,
   "metadata": {},
   "outputs": [
    {
     "data": {
      "text/html": [
       "<div>\n",
       "<style scoped>\n",
       "    .dataframe tbody tr th:only-of-type {\n",
       "        vertical-align: middle;\n",
       "    }\n",
       "\n",
       "    .dataframe tbody tr th {\n",
       "        vertical-align: top;\n",
       "    }\n",
       "\n",
       "    .dataframe thead th {\n",
       "        text-align: right;\n",
       "    }\n",
       "</style>\n",
       "<table border=\"1\" class=\"dataframe\">\n",
       "  <thead>\n",
       "    <tr style=\"text-align: right;\">\n",
       "      <th></th>\n",
       "      <th>ID</th>\n",
       "      <th>Sex</th>\n",
       "      <th>Age</th>\n",
       "      <th>Site</th>\n",
       "    </tr>\n",
       "  </thead>\n",
       "  <tbody>\n",
       "    <tr>\n",
       "      <th>0</th>\n",
       "      <td>100000</td>\n",
       "      <td>1</td>\n",
       "      <td>28</td>\n",
       "      <td>31</td>\n",
       "    </tr>\n",
       "    <tr>\n",
       "      <th>1</th>\n",
       "      <td>100001</td>\n",
       "      <td>0</td>\n",
       "      <td>48</td>\n",
       "      <td>31</td>\n",
       "    </tr>\n",
       "    <tr>\n",
       "      <th>2</th>\n",
       "      <td>100002</td>\n",
       "      <td>0</td>\n",
       "      <td>44</td>\n",
       "      <td>11</td>\n",
       "    </tr>\n",
       "    <tr>\n",
       "      <th>3</th>\n",
       "      <td>100003</td>\n",
       "      <td>0</td>\n",
       "      <td>50</td>\n",
       "      <td>21</td>\n",
       "    </tr>\n",
       "    <tr>\n",
       "      <th>4</th>\n",
       "      <td>100004</td>\n",
       "      <td>0</td>\n",
       "      <td>65</td>\n",
       "      <td>11</td>\n",
       "    </tr>\n",
       "    <tr>\n",
       "      <th>...</th>\n",
       "      <td>...</td>\n",
       "      <td>...</td>\n",
       "      <td>...</td>\n",
       "      <td>...</td>\n",
       "    </tr>\n",
       "    <tr>\n",
       "      <th>30922</th>\n",
       "      <td>130924</td>\n",
       "      <td>0</td>\n",
       "      <td>54</td>\n",
       "      <td>11</td>\n",
       "    </tr>\n",
       "    <tr>\n",
       "      <th>30923</th>\n",
       "      <td>130925</td>\n",
       "      <td>0</td>\n",
       "      <td>48</td>\n",
       "      <td>11</td>\n",
       "    </tr>\n",
       "    <tr>\n",
       "      <th>30924</th>\n",
       "      <td>130926</td>\n",
       "      <td>1</td>\n",
       "      <td>58</td>\n",
       "      <td>11</td>\n",
       "    </tr>\n",
       "    <tr>\n",
       "      <th>30925</th>\n",
       "      <td>130927</td>\n",
       "      <td>1</td>\n",
       "      <td>63</td>\n",
       "      <td>81</td>\n",
       "    </tr>\n",
       "    <tr>\n",
       "      <th>30926</th>\n",
       "      <td>130928</td>\n",
       "      <td>0</td>\n",
       "      <td>22</td>\n",
       "      <td>31</td>\n",
       "    </tr>\n",
       "  </tbody>\n",
       "</table>\n",
       "<p>30927 rows × 4 columns</p>\n",
       "</div>"
      ],
      "text/plain": [
       "           ID  Sex  Age  Site\n",
       "0      100000    1   28    31\n",
       "1      100001    0   48    31\n",
       "2      100002    0   44    11\n",
       "3      100003    0   50    21\n",
       "4      100004    0   65    11\n",
       "...       ...  ...  ...   ...\n",
       "30922  130924    0   54    11\n",
       "30923  130925    0   48    11\n",
       "30924  130926    1   58    11\n",
       "30925  130927    1   63    81\n",
       "30926  130928    0   22    31\n",
       "\n",
       "[30927 rows x 4 columns]"
      ]
     },
     "execution_count": 46,
     "metadata": {},
     "output_type": "execute_result"
    }
   ],
   "source": [
    "demographics"
   ]
  },
  {
   "cell_type": "code",
   "execution_count": 47,
   "metadata": {},
   "outputs": [],
   "source": [
    "#merges with Healtey people\n",
    "demographics[\"ID\"] = demographics[\"ID\"].astype(str)\n",
    "merged_df = pd.merge(demographics, Healthy_people, on=\"ID\", how=\"inner\")\n",
    "final_demographics = merged_df[demographics.columns]"
   ]
  },
  {
   "cell_type": "code",
   "execution_count": 48,
   "metadata": {},
   "outputs": [],
   "source": [
    "#Dorp outlier for BMI a_anthro_bmi\n",
    "z_scores = (merged_df['a_anthro_bmi'] - merged_df['a_anthro_bmi'].mean()) / merged_df['a_anthro_bmi'].std()\n",
    "threshold = 3\n",
    "df_bmi = merged_df[abs(z_scores) <= threshold]\n",
    "df_bmi = df_bmi[[\"ID\",\"a_anthro_bmi\"]]\n",
    "\n",
    "final_demographics = pd.merge(final_demographics, df_bmi, on=\"ID\", how=\"inner\")"
   ]
  },
  {
   "cell_type": "code",
   "execution_count": 49,
   "metadata": {},
   "outputs": [],
   "source": [
    "final_demographics.rename(columns={\"a_anthro_bmi\": \"BMI\"}, inplace=True)"
   ]
  },
  {
   "cell_type": "code",
   "execution_count": 50,
   "metadata": {},
   "outputs": [],
   "source": [
    "len(final_demographics)\n",
    "final_demographics.to_csv(\"/zi/home/esra.lenz/Documents/00_HITKIP/09_TABPFN/00_NAKO/00_data/NAKO_demographics_covariates_subset_healthy.csv\", index=False)"
   ]
  }
 ],
 "metadata": {
  "kernelspec": {
   "display_name": "Python 3",
   "language": "python",
   "name": "python3"
  },
  "language_info": {
   "codemirror_mode": {
    "name": "ipython",
    "version": 3
   },
   "file_extension": ".py",
   "mimetype": "text/x-python",
   "name": "python",
   "nbconvert_exporter": "python",
   "pygments_lexer": "ipython3",
   "version": "3.12.3"
  }
 },
 "nbformat": 4,
 "nbformat_minor": 2
}
