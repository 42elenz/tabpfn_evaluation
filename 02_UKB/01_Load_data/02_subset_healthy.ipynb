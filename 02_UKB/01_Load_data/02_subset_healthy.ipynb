{
 "cells": [
  {
   "cell_type": "code",
   "execution_count": null,
   "metadata": {},
   "outputs": [],
   "source": [
    "import pandas as pd\n"
   ]
  },
  {
   "cell_type": "code",
   "execution_count": null,
   "metadata": {},
   "outputs": [],
   "source": [
    "csv_path = \"../00_data/UKB_demographics_covariates.csv\"\n",
    "merged_df = pd.read_csv(csv_path)\n",
    "merged_df[\"ID\"] = merged_df[\"ID\"].astype(str)"
   ]
  },
  {
   "cell_type": "code",
   "execution_count": null,
   "metadata": {},
   "outputs": [],
   "source": [
    "merged_df.to_csv(\"../00_data/UKB_demographics_covariates_subset_healthy.csv\", index=False)\n",
    "merged_df.rename(columns={\"Age\": \"label_Age\"}, inplace=True)\n",
    "merged_df.to_csv(\"../00_data/age_label/all_ages_healthy.csv\", index=False)"
   ]
  },
  {
   "cell_type": "code",
   "execution_count": null,
   "metadata": {},
   "outputs": [],
   "source": [
    "#MERGE LABEL COL CLINICAL HERE TO DROP"
   ]
  },
  {
   "cell_type": "code",
   "execution_count": null,
   "metadata": {},
   "outputs": [],
   "source": [
    "for col in merged_df.columns:\n",
    "    print(col)"
   ]
  },
  {
   "cell_type": "code",
   "execution_count": null,
   "metadata": {},
   "outputs": [],
   "source": [
    "\n",
    "# Filter the dataframe\n",
    "merged_df = merged_df[merged_df[\"a_diag_epilep\"] == 0]\n",
    "merged_df = merged_df[merged_df[\"a_diag_parkinson\"] == 0]\n",
    "filtered_df = merged_df[\n",
    "    (merged_df[\"a_emo_phq9_kat\"] != 7777) &\n",
    "    (merged_df[\"a_emo_gad7_dia\"] != 9999) &\n",
    "    (merged_df[\"a_alk_rein\"] > 0) &\n",
    "    (merged_df[\"a_alk_konsum\"] != -99) &\n",
    "    (merged_df[\"a_alk_audit_c\"] != -99) &\n",
    "    (merged_df[\"a_smok_stat_noint\"].isin([1, 2])) &\n",
    "    (merged_df[\"a_anthro_bmi\"] != 7777)\n",
    "    \n",
    "]\n",
    "\n",
    "all_diagnoses = [\n",
    "    (\"depression_and_angst\", 2), (\"depression_and_angst\", 3), (\"depression_and_angst\", 4),\n",
    "    (\"depression\", 2), (\"depression\", 3), (\"depression\", 4),\n",
    "    (\"angst\", 2), (\"angst\", 3), (\"angst\", 4),\n",
    "    (\"alkohol\", 70), (\"alkohol\", 80), (\"alkohol\", 90),\n",
    "    (\"alkohol_audit\", 9), (\"alkohol_audit\", 10)  # ,  (\"alkohol_audit\", 11)\n",
    "]\n",
    "\n",
    "for diagnosis_crit, thresh in all_diagnoses:\n",
    "    if diagnosis_crit == \"depression_and_angst\":\n",
    "        filtered_df[f'diagnosis_{diagnosis_crit}_{thresh}'] = filtered_df.apply(\n",
    "            lambda row: 1 if (row['a_emo_phq9_kat'] >= thresh) or \\\n",
    "                             (row['a_emo_gad7_dia'] >= thresh) else 0,\n",
    "            axis=1\n",
    "        )\n",
    "    elif diagnosis_crit == \"depression\":\n",
    "        filtered_df[f'diagnosis_{diagnosis_crit}_{thresh}'] = filtered_df.apply(\n",
    "            lambda row: 1 if row['a_emo_phq9_kat'] >= thresh else 0,\n",
    "            axis=1\n",
    "        )\n",
    "    elif diagnosis_crit == \"angst\":\n",
    "        filtered_df[f'diagnosis_{diagnosis_crit}_{thresh}'] = filtered_df.apply(\n",
    "            lambda row: 1 if row['a_emo_gad7_dia'] >= thresh else 0,\n",
    "            axis=1\n",
    "        )\n",
    "    elif diagnosis_crit == \"alkohol\":\n",
    "        filtered_df[f'diagnosis_{diagnosis_crit}_{thresh}'] = filtered_df.apply(\n",
    "            lambda row: 1 if row['a_alk_rein'] >= thresh and row['a_alk_konsum'] == 2 else 0,\n",
    "            axis=1\n",
    "        )\n",
    "    elif diagnosis_crit == \"alkohol_audit\":\n",
    "        filtered_df[f'diagnosis_{diagnosis_crit}_{thresh}'] = filtered_df.apply(\n",
    "            lambda row: 1 if row['a_alk_audit_c'] >= thresh else 0,\n",
    "            axis=1\n",
    "        )\n",
    "        "
   ]
  },
  {
   "cell_type": "code",
   "execution_count": null,
   "metadata": {},
   "outputs": [],
   "source": [
    "#wen all diagnose are zero set health col to 1\n",
    "filtered_df[\"healthy\"] = filtered_df.apply(\n",
    "    lambda row: 1 if sum([row[f'diagnosis_{diagnosis_crit}_{thresh}'] for diagnosis_crit, thresh in all_diagnoses]) == 0 else 0,\n",
    "    axis=1\n",
    ")"
   ]
  },
  {
   "cell_type": "code",
   "execution_count": null,
   "metadata": {},
   "outputs": [],
   "source": [
    "Healthy_people = filtered_df[filtered_df[\"healthy\"] == 1]"
   ]
  },
  {
   "cell_type": "code",
   "execution_count": null,
   "metadata": {},
   "outputs": [],
   "source": [
    "age_df = pd.read_csv(\"/zi/home/esra.lenz/Documents/00_HITKIP/09_TABPFN/00_NAKO/00_data/age_label/all_ages_all_ids.csv\")\n",
    "if \"Unnamed: 0\" in age_df.columns:\n",
    "    age_df.drop(columns=[\"Unnamed: 0\"], inplace=True)\n",
    "len(age_df)"
   ]
  },
  {
   "cell_type": "code",
   "execution_count": null,
   "metadata": {},
   "outputs": [],
   "source": [
    "#merge the ID for healthy people\n",
    "age_df[\"ID\"] = age_df[\"ID\"].astype(str)\n",
    "merged_df = pd.merge(age_df, Healthy_people, on=\"ID\", how=\"inner\")\n",
    "final_all_ages = merged_df[age_df.columns]"
   ]
  },
  {
   "cell_type": "code",
   "execution_count": null,
   "metadata": {},
   "outputs": [],
   "source": [
    "len(final_all_ages)"
   ]
  },
  {
   "cell_type": "code",
   "execution_count": null,
   "metadata": {},
   "outputs": [],
   "source": [
    "final_all_ages.rename(columns={\"Age\": \"label_Age\"}, inplace=True)"
   ]
  },
  {
   "cell_type": "code",
   "execution_count": null,
   "metadata": {},
   "outputs": [],
   "source": [
    "#save the merged df as all ages.csv\n",
    "final_all_ages.to_csv(\"/zi/home/esra.lenz/Documents/00_HITKIP/09_TABPFN/00_NAKO/00_data/age_label/all_ages_healthy.csv\", index=False)"
   ]
  },
  {
   "cell_type": "code",
   "execution_count": null,
   "metadata": {},
   "outputs": [],
   "source": [
    "demographics = pd.read_csv(\"/zi/home/esra.lenz/Documents/00_HITKIP/09_TABPFN/00_NAKO/00_data/NAKO_demographics_covariates.csv\")\n",
    "len(demographics)"
   ]
  },
  {
   "cell_type": "code",
   "execution_count": null,
   "metadata": {},
   "outputs": [],
   "source": [
    "demographics"
   ]
  },
  {
   "cell_type": "code",
   "execution_count": null,
   "metadata": {},
   "outputs": [],
   "source": [
    "#merges with Healtey people\n",
    "demographics[\"ID\"] = demographics[\"ID\"].astype(str)\n",
    "merged_df = pd.merge(demographics, Healthy_people, on=\"ID\", how=\"inner\")\n",
    "final_demographics = merged_df[demographics.columns]"
   ]
  },
  {
   "cell_type": "code",
   "execution_count": null,
   "metadata": {},
   "outputs": [],
   "source": [
    "#Dorp outlier for BMI a_anthro_bmi\n",
    "z_scores = (merged_df['a_anthro_bmi'] - merged_df['a_anthro_bmi'].mean()) / merged_df['a_anthro_bmi'].std()\n",
    "threshold = 3\n",
    "df_bmi = merged_df[abs(z_scores) <= threshold]\n",
    "df_bmi = df_bmi[[\"ID\",\"a_anthro_bmi\"]]\n",
    "\n",
    "final_demographics = pd.merge(final_demographics, df_bmi, on=\"ID\", how=\"inner\")"
   ]
  },
  {
   "cell_type": "code",
   "execution_count": null,
   "metadata": {},
   "outputs": [],
   "source": [
    "final_demographics.rename(columns={\"a_anthro_bmi\": \"BMI\"}, inplace=True)"
   ]
  },
  {
   "cell_type": "code",
   "execution_count": null,
   "metadata": {},
   "outputs": [],
   "source": [
    "len(final_demographics)\n",
    "final_demographics.to_csv(\"/zi/home/esra.lenz/Documents/00_HITKIP/09_TABPFN/00_NAKO/00_data/NAKO_demographics_covariates_subset_healthy.csv\", index=False)"
   ]
  }
 ],
 "metadata": {
  "kernelspec": {
   "display_name": "Python 3",
   "language": "python",
   "name": "python3"
  },
  "language_info": {
   "codemirror_mode": {
    "name": "ipython",
    "version": 3
   },
   "file_extension": ".py",
   "mimetype": "text/x-python",
   "name": "python",
   "nbconvert_exporter": "python",
   "pygments_lexer": "ipython3",
   "version": "3.12.3"
  }
 },
 "nbformat": 4,
 "nbformat_minor": 2
}
