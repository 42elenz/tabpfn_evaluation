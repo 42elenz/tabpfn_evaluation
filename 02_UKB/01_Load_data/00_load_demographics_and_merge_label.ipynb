{
 "cells": [
  {
   "cell_type": "code",
   "execution_count": 15,
   "metadata": {},
   "outputs": [],
   "source": [
    "import pandas as pd\n",
    "import os\n",
    "import subprocess"
   ]
  },
  {
   "cell_type": "code",
   "execution_count": 8,
   "metadata": {},
   "outputs": [],
   "source": [
    "path_to_label = \"file-Gx8pB38Jk6kP63J7Ykbb2gPF\"\n",
    "lable_dir = \"../00_data/label\"\n",
    "\n",
    "command = f\"dx download {path_to_label} --output ../00_data\"\n",
    "subprocess.run(command, shell=True)"
   ]
  },
  {
   "cell_type": "code",
   "execution_count": 23,
   "metadata": {},
   "outputs": [
    {
     "name": "stdout",
     "output_type": "stream",
     "text": [
      "rh.aparc.volume.tsv\n",
      "lh.aparc.volume.tsv\n",
      "rh.aparc.thickness.tsv\n",
      "rh.aparc.thicknessstd.tsv\n",
      "lh.aparc.thickness.tsv\n",
      "lh.aparc.thicknessstd.tsv\n",
      "aseg.volume.tsv\n"
     ]
    }
   ],
   "source": [
    "mri_data = \"/zi/flstorage/HITKIP/datasets/NAKO_01_2024/NAKO/derivatives/ses-01/freesurfer_stats/\"\n",
    "#load specific files to ../00_data/mris if they contain \n",
    "output_dir = \"../00_data/mris/\"\n",
    "os.makedirs(output_dir, exist_ok=True)\n",
    "files = [\"aparc.volume\", \"aparc.thickness\", \"aseg.volume\"]\n",
    "for file in files:\n",
    "    for root, dirs, files in os.walk(mri_data):\n",
    "        for name in files:\n",
    "            if file in name:\n",
    "                print(name)\n",
    "                df = pd.read_csv(os.path.join(root, name), sep=\"\\t\")\n",
    "                #chang ending to csv\n",
    "                name = name.replace(\".tsv\", \".csv\")\n",
    "                df.to_csv(os.path.join(output_dir, name), index=False)"
   ]
  },
  {
   "cell_type": "code",
   "execution_count": 9,
   "metadata": {},
   "outputs": [
    {
     "name": "stderr",
     "output_type": "stream",
     "text": [
      "/tmp/ipykernel_2107668/187533867.py:3: SettingWithCopyWarning: \n",
      "A value is trying to be set on a copy of a slice from a DataFrame.\n",
      "Try using .loc[row_indexer,col_indexer] = value instead\n",
      "\n",
      "See the caveats in the documentation: https://pandas.pydata.org/pandas-docs/stable/user_guide/indexing.html#returning-a-view-versus-a-copy\n",
      "  demographics_covariates[\"basis_sex\"] = demographics_covariates[\"basis_sex\"] - 1\n"
     ]
    }
   ],
   "source": [
    "demographics_covariates = merged_df[[\"ID\", \"basis_sex\", \"basis_age\", \"basis_uort\"]]\n",
    "#subtract 1 from sex\n",
    "demographics_covariates[\"basis_sex\"] = demographics_covariates[\"basis_sex\"] - 1"
   ]
  },
  {
   "cell_type": "code",
   "execution_count": 10,
   "metadata": {},
   "outputs": [
    {
     "name": "stderr",
     "output_type": "stream",
     "text": [
      "/tmp/ipykernel_2107668/1682588140.py:2: SettingWithCopyWarning: \n",
      "A value is trying to be set on a copy of a slice from a DataFrame\n",
      "\n",
      "See the caveats in the documentation: https://pandas.pydata.org/pandas-docs/stable/user_guide/indexing.html#returning-a-view-versus-a-copy\n",
      "  demographics_covariates.rename(\n"
     ]
    }
   ],
   "source": [
    "#rename demographics_covariates to demographics_covariates\n",
    "demographics_covariates.rename(\n",
    "    columns={\"ID\": \"ID\", \"basis_sex\": \"Sex\", \"basis_uort\": \"Site\", \"basis_age\": \"Age\"},\n",
    "    inplace=True,\n",
    ")"
   ]
  },
  {
   "cell_type": "code",
   "execution_count": 11,
   "metadata": {},
   "outputs": [],
   "source": [
    "demographics_covariates.to_csv(\"../00_data/age_label/all_ages_all_ids.csv\", index=False)"
   ]
  },
  {
   "cell_type": "code",
   "execution_count": 12,
   "metadata": {},
   "outputs": [],
   "source": [
    "demographics_covariates.to_csv(\"../00_data/NAKO_demographics_covariates.csv\", index=False)"
   ]
  },
  {
   "cell_type": "code",
   "execution_count": 13,
   "metadata": {},
   "outputs": [
    {
     "data": {
      "text/html": [
       "<div>\n",
       "<style scoped>\n",
       "    .dataframe tbody tr th:only-of-type {\n",
       "        vertical-align: middle;\n",
       "    }\n",
       "\n",
       "    .dataframe tbody tr th {\n",
       "        vertical-align: top;\n",
       "    }\n",
       "\n",
       "    .dataframe thead th {\n",
       "        text-align: right;\n",
       "    }\n",
       "</style>\n",
       "<table border=\"1\" class=\"dataframe\">\n",
       "  <thead>\n",
       "    <tr style=\"text-align: right;\">\n",
       "      <th></th>\n",
       "      <th>ID</th>\n",
       "      <th>Sex</th>\n",
       "      <th>Age</th>\n",
       "      <th>Site</th>\n",
       "    </tr>\n",
       "  </thead>\n",
       "  <tbody>\n",
       "    <tr>\n",
       "      <th>0</th>\n",
       "      <td>100000</td>\n",
       "      <td>1</td>\n",
       "      <td>28</td>\n",
       "      <td>31</td>\n",
       "    </tr>\n",
       "    <tr>\n",
       "      <th>1</th>\n",
       "      <td>100001</td>\n",
       "      <td>0</td>\n",
       "      <td>48</td>\n",
       "      <td>31</td>\n",
       "    </tr>\n",
       "    <tr>\n",
       "      <th>2</th>\n",
       "      <td>100002</td>\n",
       "      <td>0</td>\n",
       "      <td>44</td>\n",
       "      <td>11</td>\n",
       "    </tr>\n",
       "    <tr>\n",
       "      <th>3</th>\n",
       "      <td>100003</td>\n",
       "      <td>0</td>\n",
       "      <td>50</td>\n",
       "      <td>21</td>\n",
       "    </tr>\n",
       "    <tr>\n",
       "      <th>4</th>\n",
       "      <td>100004</td>\n",
       "      <td>0</td>\n",
       "      <td>65</td>\n",
       "      <td>11</td>\n",
       "    </tr>\n",
       "    <tr>\n",
       "      <th>...</th>\n",
       "      <td>...</td>\n",
       "      <td>...</td>\n",
       "      <td>...</td>\n",
       "      <td>...</td>\n",
       "    </tr>\n",
       "    <tr>\n",
       "      <th>30922</th>\n",
       "      <td>130924</td>\n",
       "      <td>0</td>\n",
       "      <td>54</td>\n",
       "      <td>11</td>\n",
       "    </tr>\n",
       "    <tr>\n",
       "      <th>30923</th>\n",
       "      <td>130925</td>\n",
       "      <td>0</td>\n",
       "      <td>48</td>\n",
       "      <td>11</td>\n",
       "    </tr>\n",
       "    <tr>\n",
       "      <th>30924</th>\n",
       "      <td>130926</td>\n",
       "      <td>1</td>\n",
       "      <td>58</td>\n",
       "      <td>11</td>\n",
       "    </tr>\n",
       "    <tr>\n",
       "      <th>30925</th>\n",
       "      <td>130927</td>\n",
       "      <td>1</td>\n",
       "      <td>63</td>\n",
       "      <td>81</td>\n",
       "    </tr>\n",
       "    <tr>\n",
       "      <th>30926</th>\n",
       "      <td>130928</td>\n",
       "      <td>0</td>\n",
       "      <td>22</td>\n",
       "      <td>31</td>\n",
       "    </tr>\n",
       "  </tbody>\n",
       "</table>\n",
       "<p>30927 rows × 4 columns</p>\n",
       "</div>"
      ],
      "text/plain": [
       "           ID  Sex  Age  Site\n",
       "0      100000    1   28    31\n",
       "1      100001    0   48    31\n",
       "2      100002    0   44    11\n",
       "3      100003    0   50    21\n",
       "4      100004    0   65    11\n",
       "...       ...  ...  ...   ...\n",
       "30922  130924    0   54    11\n",
       "30923  130925    0   48    11\n",
       "30924  130926    1   58    11\n",
       "30925  130927    1   63    81\n",
       "30926  130928    0   22    31\n",
       "\n",
       "[30927 rows x 4 columns]"
      ]
     },
     "execution_count": 13,
     "metadata": {},
     "output_type": "execute_result"
    }
   ],
   "source": [
    "demographics_covariates"
   ]
  }
 ],
 "metadata": {
  "kernelspec": {
   "display_name": "NAKO_CLIP",
   "language": "python",
   "name": "python3"
  },
  "language_info": {
   "codemirror_mode": {
    "name": "ipython",
    "version": 3
   },
   "file_extension": ".py",
   "mimetype": "text/x-python",
   "name": "python",
   "nbconvert_exporter": "python",
   "pygments_lexer": "ipython3",
   "version": "3.11.7"
  }
 },
 "nbformat": 4,
 "nbformat_minor": 2
}
