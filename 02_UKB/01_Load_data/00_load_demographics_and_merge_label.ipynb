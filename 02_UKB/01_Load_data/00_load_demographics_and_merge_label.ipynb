{
 "cells": [
  {
   "cell_type": "code",
   "execution_count": null,
   "metadata": {},
   "outputs": [],
   "source": [
    "import pandas as pd\n",
    "import os\n",
    "import subprocess"
   ]
  },
  {
   "cell_type": "code",
   "execution_count": null,
   "metadata": {},
   "outputs": [],
   "source": [
    "def download_data(outputfolder = \"/opt/notebooks/00_data_for_loop/\"):\n",
    "    mri_tables = os.path.join(outputfolder, \"mri_tables/\")\n",
    "    os.makedirs(mri_tables, exist_ok=True)\n",
    "    command = f\"dx download -r project-GvJ4qQ8Jk6k7QFZ0Jzjp7vJ6:/Users/Esra_Lenz/02_Data/00_mri_tables/03_combined_mris/00_confounded/ --output '{mri_tables}'\"\n",
    "    subprocess.run(command, shell=True,capture_output=True, text=True)\n",
    "\n",
    "    labels = os.path.join(outputfolder, \"labels\")\n",
    "    os.makedirs(labels, exist_ok=True)\n",
    "    command = f\"dx download -r project-GvJ4qQ8Jk6k7QFZ0Jzjp7vJ6:/Users/Esra_Lenz/02_Data/01_labels/merged_multitarget_df_with_demographics.csv --output '{labels}'\"\n",
    "    subprocess.run(command, shell=True,capture_output=True, text=True)"
   ]
  },
  {
   "cell_type": "code",
   "execution_count": null,
   "metadata": {},
   "outputs": [],
   "source": [
    "download_data()"
   ]
  },
  {
   "cell_type": "code",
   "execution_count": null,
   "metadata": {},
   "outputs": [],
   "source": [
    "mri_data = \"/opt/notebooks/00_data_for_loop/mri_tables/\"\n",
    "#load specific files to ../00_data/mris if they contain \n",
    "output_dir = \"../00_data/mris/\"\n",
    "os.makedirs(output_dir, exist_ok=True)\n",
    "files_to_find = [\"aparc.volume.csv\", \"aparc.thickness.csv\", \"aseg.volume.csv\"]\n",
    "for root, dirs, files in os.walk(mri_data):\n",
    "    for file in files:\n",
    "        for file_to_find in files_to_find:\n",
    "            if file == file_to_find:\n",
    "                print(file)\n",
    "                df = pd.read_csv(os.path.join(root, file))\n",
    "                #chang ending to csv\n",
    "                name = file.replace(\".tsv\", \".csv\")\n",
    "                df.to_csv(os.path.join(output_dir, file), index=False)"
   ]
  },
  {
   "cell_type": "code",
   "execution_count": null,
   "metadata": {},
   "outputs": [],
   "source": [
    "merged_df = pd.read_csv(\"/opt/notebooks/00_data_for_loop/labels/merged_multitarget_df_with_demographics.csv\")"
   ]
  },
  {
   "cell_type": "code",
   "execution_count": null,
   "metadata": {},
   "outputs": [],
   "source": [
    "merged_df"
   ]
  },
  {
   "cell_type": "code",
   "execution_count": null,
   "metadata": {},
   "outputs": [],
   "source": [
    "\n",
    "demographics_covariates = merged_df[[\"ID\", \"sex\", \"age_at_assessment\", \"assessment_centre\"]]"
   ]
  },
  {
   "cell_type": "code",
   "execution_count": null,
   "metadata": {},
   "outputs": [],
   "source": [
    "#rename demographics_covariates to demographics_covariates\n",
    "demographics_covariates.rename(\n",
    "    columns={\"ID\": \"ID\", \"sex\": \"Sex\", \"assessment_centre\": \"Site\", \"age_at_assessment\": \"Age\"},\n",
    "    inplace=True,\n",
    ")"
   ]
  },
  {
   "cell_type": "code",
   "execution_count": null,
   "metadata": {},
   "outputs": [],
   "source": [
    "os.makedirs(\"../00_data/age_label/\", exist_ok=True)\n",
    "demographics_covariates.to_csv(\"../00_data/age_label/all_ages_all_ids.csv\", index=False)"
   ]
  },
  {
   "cell_type": "code",
   "execution_count": null,
   "metadata": {},
   "outputs": [],
   "source": [
    "demographics_covariates.to_csv(\"../00_data/UKB_demographics_covariates.csv\", index=False)"
   ]
  },
  {
   "cell_type": "code",
   "execution_count": null,
   "metadata": {},
   "outputs": [],
   "source": [
    "demographics_covariates"
   ]
  },
  {
   "cell_type": "code",
   "execution_count": null,
   "metadata": {},
   "outputs": [],
   "source": [
    "#download validation data\n",
    "os.makedirs(\"../00_data/validation_data/\", exist_ok=True)\n",
    "command = \"dx download -r project-GqzxkVQJ34g6ygFJ4ZbvqBYF:/Esra/00_CLIP/03_Validation_Data/00_National_Cohort/ --output '../00_data/validation_data/'\"\n",
    "subprocess.run(command, shell=True,capture_output=True, text=True)"
   ]
  },
  {
   "cell_type": "code",
   "execution_count": null,
   "metadata": {},
   "outputs": [],
   "source": []
  }
 ],
 "metadata": {
  "kernelspec": {
   "display_name": "Python 3",
   "language": "python",
   "name": "python3"
  },
  "language_info": {
   "codemirror_mode": {
    "name": "ipython",
    "version": 3
   },
   "file_extension": ".py",
   "mimetype": "text/x-python",
   "name": "python",
   "nbconvert_exporter": "python",
   "pygments_lexer": "ipython3",
   "version": "3.12.3"
  }
 },
 "nbformat": 4,
 "nbformat_minor": 2
}
