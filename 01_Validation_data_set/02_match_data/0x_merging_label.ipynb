{
 "cells": [
  {
   "cell_type": "code",
   "execution_count": null,
   "id": "0",
   "metadata": {
    "tags": []
   },
   "outputs": [],
   "source": [
    "import subprocess\n",
    "import pandas as pd\n",
    "from sklearn.neighbors import NearestNeighbors\n",
    "import numpy as np"
   ]
  },
  {
   "cell_type": "code",
   "execution_count": null,
   "id": "1",
   "metadata": {
    "tags": []
   },
   "outputs": [],
   "source": [
    "#prob_dep_multi_label_ double_dep_multi_label_ sev_dep_multi_label_  'Probably Depressed'  double_depressed severely_depressed\n",
    "df =\"Val_demographics_covariates.csv\"\n",
    "label = \"Age\""
   ]
  },
  {
   "cell_type": "code",
   "execution_count": null,
   "id": "2",
   "metadata": {
    "tags": []
   },
   "outputs": [],
   "source": [
    "df = pd.read_csv(f\"../00_data/{df}\")"
   ]
  },
  {
   "cell_type": "code",
   "execution_count": null,
   "id": "3",
   "metadata": {},
   "outputs": [],
   "source": [
    "df.columns"
   ]
  },
  {
   "cell_type": "code",
   "execution_count": null,
   "id": "4",
   "metadata": {
    "tags": []
   },
   "outputs": [],
   "source": [
    "columns_to_use = [\"ID\", 'Sex','Site']"
   ]
  },
  {
   "cell_type": "code",
   "execution_count": null,
   "id": "5",
   "metadata": {
    "tags": []
   },
   "outputs": [],
   "source": [
    "demo = df[columns_to_use]\n",
    "label_df = df[[\"ID\", label]]"
   ]
  },
  {
   "cell_type": "code",
   "execution_count": null,
   "id": "6",
   "metadata": {
    "tags": []
   },
   "outputs": [],
   "source": [
    "demo"
   ]
  },
  {
   "cell_type": "code",
   "execution_count": null,
   "id": "7",
   "metadata": {
    "tags": []
   },
   "outputs": [],
   "source": [
    "rename_dict = {\n",
    "    \"Sex\": \"sex\",\n",
    "    \"Site\" : \"assessment_centre\"\n",
    "}\n",
    "demo.rename(columns=rename_dict, inplace=True)"
   ]
  },
  {
   "cell_type": "code",
   "execution_count": null,
   "id": "8",
   "metadata": {
    "tags": []
   },
   "outputs": [],
   "source": [
    "unique_centers = demo[\"assessment_centre\"].unique()\n",
    "center_mapping = {center: idx for idx, center in enumerate(unique_centers)}\n",
    "print(\"Mapping of assessment centers to numbers:\")\n",
    "for center, idx in center_mapping.items():\n",
    "    print(f\"{center}: {idx}\")\n",
    "demo[\"assessment_centre\"] = demo[\"assessment_centre\"].map(center_mapping)"
   ]
  },
  {
   "cell_type": "code",
   "execution_count": null,
   "id": "9",
   "metadata": {
    "tags": []
   },
   "outputs": [],
   "source": [
    "nan_summary = demo.isnull().sum()\n",
    "nan_columns = nan_summary[nan_summary > 0]\n",
    "print(nan_columns)\n",
    "\n",
    "# Iterate through each column with missing values\n",
    "for col in demo.columns:\n",
    "    if demo[col].isna().any(): \n",
    "        if demo[col].dtype in ['int64', 'float64']:  # Only apply IQR method for numeric columns\n",
    "            Q1 = demo[col].quantile(0.25)  # First quartile\n",
    "            Q3 = demo[col].quantile(0.75)  # Third quartile\n",
    "            iqr_values = demo[col][(demo[col] >= Q1) & (demo[col] <= Q3)]\n",
    "            \n",
    "            if not iqr_values.empty:  # Ensure we have values to sample from\n",
    "                random_values = np.random.choice(iqr_values, size=demo[col].isnull().sum())\n",
    "                demo.loc[demo[col].isnull(), col] = random_values\n",
    "        else:  # For categorical columns, fill with mode\n",
    "            mode_value = demo[col].mode()[0]\n",
    "            demo[col].fillna(mode_value, inplace=True)\n",
    "\n",
    "# Check for remaining NaN columns\n",
    "nan_summary = demo.isnull().sum()\n",
    "nan_columns = nan_summary[nan_summary > 0]\n",
    "print(nan_columns)"
   ]
  },
  {
   "cell_type": "code",
   "execution_count": null,
   "id": "10",
   "metadata": {
    "tags": []
   },
   "outputs": [],
   "source": [
    "merged_df = demo.merge(label_df, on=\"ID\", how=\"inner\")"
   ]
  },
  {
   "cell_type": "code",
   "execution_count": null,
   "id": "11",
   "metadata": {
    "tags": []
   },
   "outputs": [],
   "source": [
    "merged_df.columns"
   ]
  },
  {
   "cell_type": "code",
   "execution_count": null,
   "id": "12",
   "metadata": {
    "tags": []
   },
   "outputs": [],
   "source": [
    "#merged_df[\"deprivation_index\"].describe()"
   ]
  },
  {
   "cell_type": "code",
   "execution_count": null,
   "id": "13",
   "metadata": {
    "tags": []
   },
   "outputs": [],
   "source": [
    "merged_df.rename(columns={label:f\"label_{label}\"},inplace=True)"
   ]
  },
  {
   "cell_type": "code",
   "execution_count": null,
   "id": "14",
   "metadata": {},
   "outputs": [],
   "source": [
    "merged_df.columns"
   ]
  },
  {
   "cell_type": "code",
   "execution_count": null,
   "id": "15",
   "metadata": {
    "tags": []
   },
   "outputs": [],
   "source": [
    "def match_participant(target_row, df_candidates, relax_order, used_ids,thresholds=None):\n",
    "    df_candidates = df_candidates[~df_candidates['ID'].isin(used_ids)].copy()\n",
    "    for relax_level in relax_order:\n",
    "        filtered = df_candidates.copy()\n",
    "        for criterion, match_exact in relax_level.items():\n",
    "            if criterion in ['assessment_centre']:\n",
    "                if match_exact:\n",
    "                    filtered = filtered[filtered[criterion] == target_row[criterion]]\n",
    "            elif criterion in ['sex']:\n",
    "                if match_exact:\n",
    "                    #find opposite sex\n",
    "                    filtered = filtered[filtered[criterion] != target_row[criterion]]\n",
    "            else:\n",
    "                if match_exact:\n",
    "                    diff = abs(filtered[criterion] - target_row[criterion])\n",
    "                    filtered = filtered[diff <= thresholds[criterion]]\n",
    "            if filtered.empty:\n",
    "                break\n",
    "        if not filtered.empty:\n",
    "            return filtered.iloc[0]\n",
    "    print(\"NO candidate found\")\n",
    "    return None\n",
    "\"\"\" relax_order = [\n",
    "    {'assessment_centre': True, 'deprivation_index': True, 'bmi': True, 'age_at_assessment': True, 'sex': True},\n",
    "    {'assessment_centre': False, 'deprivation_index': True, 'bmi': True, 'age_at_assessment': True, 'sex': True},\n",
    "    {'assessment_centre': False, 'deprivation_index': False, 'bmi': True, 'age_at_assessment': True, 'sex': True},\n",
    "    {'assessment_centre': False, 'deprivation_index': False, 'bmi': False, 'age_at_assessment': True, 'sex': True},\n",
    "    {'assessment_centre': False, 'deprivation_index': False, 'bmi': False, 'age_at_assessment': False, 'sex': True},\n",
    "] \"\"\"\n",
    "\"\"\" thresholds = {\n",
    "    'age_at_assessment': 2,\n",
    "    'bmi': 3,\n",
    "    'deprivation_index': 1\n",
    "}\n",
    " \"\"\"\n",
    "relax_order = [\n",
    "    {'assessment_centre': True, \"label_Age\": True},\n",
    "    {'assessment_centre': False, \"label_Age\": True},\n",
    "]\n",
    "thresholds = {\n",
    "    \"label_Age\": 2\n",
    "}"
   ]
  },
  {
   "cell_type": "code",
   "execution_count": null,
   "id": "16",
   "metadata": {
    "tags": []
   },
   "outputs": [],
   "source": [
    "from joblib import Parallel, delayed\n",
    "import os\n",
    "def match_for_label(label, merged_df, relax_order, thresholds=None):\n",
    "    positive_group = merged_df[merged_df[label] == 1]\n",
    "    negative_group = merged_df[merged_df[label] == 0]\n",
    "\n",
    "    matches = []\n",
    "    used_ids = set() \n",
    "    for _, target_row in positive_group.iterrows():\n",
    "        matched = match_participant(target_row, negative_group, relax_order, used_ids, thresholds)\n",
    "        if matched is not None:\n",
    "            matches.append(matched)\n",
    "            used_ids.add(matched['ID'])\n",
    "    matched_df = pd.DataFrame(matches)\n",
    "    return label, matched_df, positive_group\n",
    "\n",
    "label_cols = [col for col in merged_df.columns if \"sex\" in col]\n",
    "print(f\"label_cols: {label_cols}\")\n",
    "results = Parallel(n_jobs=-1)(delayed(match_for_label)(label, merged_df, relax_order, thresholds) for label in label_cols)\n",
    "\n",
    "\n"
   ]
  },
  {
   "cell_type": "code",
   "execution_count": null,
   "id": "17",
   "metadata": {},
   "outputs": [],
   "source": [
    "len(results)"
   ]
  },
  {
   "cell_type": "code",
   "execution_count": null,
   "id": "18",
   "metadata": {},
   "outputs": [],
   "source": [
    "for label, matched_df, positive_group in results:\n",
    "    print(matched_df[label].value_counts())\n",
    "    print(positive_group[label].value_counts())"
   ]
  },
  {
   "cell_type": "code",
   "execution_count": null,
   "id": "19",
   "metadata": {},
   "outputs": [],
   "source": [
    "list_of_final_dfs = []\n",
    "os.makedirs(\"/zi/home/esra.lenz/Documents/00_HITKIP/00_CLIP/00_NAKO/02_Validation_of_UKB/01_Validation_data_set/00_data/matched_depression\", exist_ok=True)\n",
    "for label, matched_df, positive_group in results:\n",
    "    #concat the the positive and negative matched participants\n",
    "    final_df = pd.concat([positive_group, matched_df])\n",
    "    #matched_df.to_csv(f\"/zi/home/esra.lenz/Documents/00_HITKIP/00_CLIP/00_NAKO/02_Validation_of_UKB/00_data/matched_depression/matched_{label}.csv\", index=False)\n",
    "    list_of_final_dfs.append(final_df)\n",
    "    print(f\"Saved matched participants for {label}\")"
   ]
  },
  {
   "cell_type": "code",
   "execution_count": null,
   "id": "20",
   "metadata": {},
   "outputs": [],
   "source": [
    "df = list_of_final_dfs[0]"
   ]
  },
  {
   "cell_type": "code",
   "execution_count": null,
   "id": "21",
   "metadata": {},
   "outputs": [],
   "source": [
    "df[df[\"sex\"] == 0][\"label_Age\"].hist()"
   ]
  },
  {
   "cell_type": "code",
   "execution_count": null,
   "id": "22",
   "metadata": {},
   "outputs": [],
   "source": [
    "df[df[\"sex\"] == 1][\"label_Age\"].hist()"
   ]
  },
  {
   "cell_type": "code",
   "execution_count": null,
   "id": "23",
   "metadata": {},
   "outputs": [],
   "source": [
    "df.to_csv(\"/zi/home/esra.lenz/Documents/00_HITKIP/09_TABPFN/01_Validation_data_set/00_data/age_label/all_ages.csv\", index=False)"
   ]
  },
  {
   "cell_type": "code",
   "execution_count": null,
   "id": "24",
   "metadata": {},
   "outputs": [],
   "source": [
    "from typing import List\n",
    "def balance_dataframe(df: pd.DataFrame, label_col: str, sex_col: str, sort_col: List[str], ascending: List[bool] = [True]) -> pd.DataFrame:\n",
    "    \"\"\"\n",
    "    Balances a DataFrame by equalizing the number of male and female entries in the positive class.\n",
    "    \n",
    "    Args:\n",
    "    - df (pd.DataFrame): The input DataFrame.\n",
    "    - label_col (str): The name of the column containing the binary labels (0 or 1).\n",
    "    - sex_col (str): The name of the column containing the sex indicator (0 for women, 1 for men).\n",
    "    - sort_col (str): The column to sort by when dropping excess rows from the dominant sex.\n",
    "    \n",
    "    Returns:\n",
    "    - pd.DataFrame: The balanced DataFrame with an equal number of men and women in the positive class.\n",
    "    \"\"\"\n",
    "    # Separate the false and positive classes\n",
    "    df_false = df[df[label_col] == 0].reset_index(drop=True)\n",
    "    df_pos = df[df[label_col] == 1].reset_index(drop=True)\n",
    "    \n",
    "    # Count the number of men and women in the positive class\n",
    "    count_men = len(df_pos[df_pos[sex_col] == 1])\n",
    "    count_women = len(df_pos[df_pos[sex_col] == 0])\n",
    "    \n",
    "    # Calculate the difference and identify the dominant class (1 for men, 0 for women)\n",
    "    difference = abs(count_men - count_women)\n",
    "    dominant_class = int(count_men > count_women)\n",
    "    \n",
    "    # Sort the positive class by the specified column\n",
    "    pos_sorted_for_units_ascending = df_pos.sort_values(by=sort_col, ascending=ascending)\n",
    "    \n",
    "    # Get the dominant class subset and drop the excess indices\n",
    "    just_dominant_class = pos_sorted_for_units_ascending[pos_sorted_for_units_ascending[sex_col] == dominant_class]\n",
    "    drop_indices = just_dominant_class.index[:difference]\n",
    "    \n",
    "    # Drop the excess indices from both the positive and false class DataFrames\n",
    "    df_pos = df_pos.drop(drop_indices).reset_index(drop=True)\n",
    "    df_false = df_false.drop(drop_indices).reset_index(drop=True)\n",
    "    \n",
    "    # Concatenate the balanced DataFrame\n",
    "    df_balanced = pd.concat([df_pos, df_false]).reset_index(drop=True)\n",
    "    \n",
    "    return df_balanced\n",
    "\n",
    "\n"
   ]
  },
  {
   "cell_type": "code",
   "execution_count": null,
   "id": "25",
   "metadata": {},
   "outputs": [],
   "source": [
    "os.makedirs(\"/zi/home/esra.lenz/Documents/00_HITKIP/00_CLIP/00_NAKO/02_Validation_of_UKB/00_data/sex_balanced_labels_depression/\", exist_ok=True)\n",
    "for final_df, label in zip(list_of_final_dfs, label_cols):\n",
    "    gender_balanced_df = balance_dataframe(final_df, label, \"sex\", sort_col=\"a_emo_phq9_sum\", ascending=True)\n",
    "    print(f\"#####\\nVALUE COUNT: {gender_balanced_df[label].value_counts()}\")\n",
    "    print(f\"VALUE COUNT: {gender_balanced_df['sex'].value_counts()}\\n\")\n",
    "    gender_balanced_df.to_csv(f\"/zi/home/esra.lenz/Documents/00_HITKIP/00_CLIP/00_NAKO/02_Validation_of_UKB/00_data/sex_balanced_labels_depression/sex_balanced_{label}.csv\", index=False, mode='w')\n",
    "\n",
    "    "
   ]
  },
  {
   "cell_type": "code",
   "execution_count": null,
   "id": "26",
   "metadata": {},
   "outputs": [],
   "source": [
    "gender_balanced_df[\"a_emo_phq9_sum\"].hist()"
   ]
  },
  {
   "cell_type": "code",
   "execution_count": null,
   "id": "27",
   "metadata": {},
   "outputs": [],
   "source": []
  }
 ],
 "metadata": {
  "kernelspec": {
   "display_name": "llama2_gptq",
   "language": "python",
   "name": "python3"
  },
  "language_info": {
   "codemirror_mode": {
    "name": "ipython",
    "version": 3
   },
   "file_extension": ".py",
   "mimetype": "text/x-python",
   "name": "python",
   "nbconvert_exporter": "python",
   "pygments_lexer": "ipython3",
   "version": "3.11.7"
  }
 },
 "nbformat": 4,
 "nbformat_minor": 5
}
