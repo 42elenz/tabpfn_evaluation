{
 "cells": [
  {
   "cell_type": "code",
   "execution_count": 5,
   "metadata": {},
   "outputs": [],
   "source": [
    "import pandas as pd\n",
    "import os"
   ]
  },
  {
   "cell_type": "code",
   "execution_count": 6,
   "metadata": {},
   "outputs": [
    {
     "name": "stdout",
     "output_type": "stream",
     "text": [
      "label_age_group\n",
      "0    123\n",
      "2     80\n",
      "1     62\n",
      "3      7\n",
      "4      0\n",
      "5      0\n",
      "Name: count, dtype: int64\n",
      "label_age_group\n",
      "0    210\n",
      "1      0\n",
      "2      0\n",
      "3      0\n",
      "4      0\n",
      "5      0\n",
      "Name: count, dtype: int64\n",
      "label_age_group\n",
      "0    201\n",
      "1      0\n",
      "2      0\n",
      "3      0\n",
      "4      0\n",
      "5      0\n",
      "Name: count, dtype: int64\n"
     ]
    }
   ],
   "source": [
    "bins = [19, 29, 39, 49, 59, 69, 79]  # Last bin captures ages above 79\n",
    "labels = [0, 1, 2, 3, 4, 5]  # Corresponding group labels\n",
    "for folder in os.listdir(\"../00_data/\"):\n",
    "    df = pd.read_csv(f\"../00_data/{folder}/all_ages_all_ids.csv\")\n",
    "    df['label_age_group'] = pd.cut(df['label_Age'], bins=bins, labels=labels)\n",
    "    print(df['label_age_group'].value_counts())\n",
    "    df.to_csv(f\"../00_data/{folder}/all_ages_all_ids.csv\", index=False)"
   ]
  }
 ],
 "metadata": {
  "kernelspec": {
   "display_name": "NAKO_CLIP",
   "language": "python",
   "name": "python3"
  },
  "language_info": {
   "codemirror_mode": {
    "name": "ipython",
    "version": 3
   },
   "file_extension": ".py",
   "mimetype": "text/x-python",
   "name": "python",
   "nbconvert_exporter": "python",
   "pygments_lexer": "ipython3",
   "version": "3.11.7"
  }
 },
 "nbformat": 4,
 "nbformat_minor": 2
}
