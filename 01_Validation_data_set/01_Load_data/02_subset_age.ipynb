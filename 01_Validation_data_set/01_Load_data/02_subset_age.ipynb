{
 "cells": [
  {
   "cell_type": "code",
   "execution_count": null,
   "metadata": {},
   "outputs": [],
   "source": [
    "import pandas as pd\n",
    "import os"
   ]
  },
  {
   "cell_type": "code",
   "execution_count": null,
   "metadata": {},
   "outputs": [],
   "source": [
    "for folder in os.listdir(\"../00_data/\"):\n",
    "    if \"ds\" in folder:\n",
    "        df = pd.read_csv(f\"../00_data/{folder}/all_ages_all_ids.csv\")\n",
    "        print(df[\"label_Age\"].describe())\n",
    "        df[\"label_Age\"].hist()\n",
    "        df[\"Sex\"].value_counts()\n",
    "        if \"Age\" in df.columns:\n",
    "            df.rename(columns={\"Age\": \"label_Age\"}, inplace=True)\n",
    "        df.to_csv(f\"../00_data/{folder}/all_ages_all_ids.csv\", index=False)\n",
    "        max_age = df[\"label_Age\"].max()\n",
    "        min_age = df[\"label_Age\"].min()\n",
    "        print(f\"Max age: {max_age}\")\n",
    "        print(f\"Min age: {min_age}\")"
   ]
  }
 ],
 "metadata": {
  "kernelspec": {
   "display_name": "NAKO_CLIP",
   "language": "python",
   "name": "python3"
  },
  "language_info": {
   "codemirror_mode": {
    "name": "ipython",
    "version": 3
   },
   "file_extension": ".py",
   "mimetype": "text/x-python",
   "name": "python",
   "nbconvert_exporter": "python",
   "pygments_lexer": "ipython3",
   "version": "3.11.7"
  }
 },
 "nbformat": 4,
 "nbformat_minor": 2
}
