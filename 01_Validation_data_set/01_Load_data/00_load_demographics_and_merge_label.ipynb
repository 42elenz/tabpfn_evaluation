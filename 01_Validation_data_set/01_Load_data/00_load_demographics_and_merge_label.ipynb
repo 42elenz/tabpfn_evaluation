{
 "cells": [
  {
   "cell_type": "code",
   "execution_count": null,
   "metadata": {},
   "outputs": [],
   "source": [
    "import pandas as pd\n",
    "import os"
   ]
  },
  {
   "cell_type": "code",
   "execution_count": null,
   "metadata": {},
   "outputs": [],
   "source": [
    "folder = \"/zi/home/esra.lenz/Documents/00_HITKIP/09_TABPFN/01_Validation_data_set/00_data/00_ds000030/\"\n",
    "csv_path = os.path.join(folder, \"participants.tsv\")\n",
    "merged_df = pd.read_csv(csv_path, sep=\"\\t\")\n",
    "merged_df.rename(columns={\"participant_id\": \"ID\"}, inplace=True)\n",
    "merged_df[\"ID\"].replace(\"sub-\", \"\", regex=True, inplace=True)\n",
    "merged_df[\"ID\"] = merged_df[\"ID\"].astype(str)\n",
    "demographics_covariates = merged_df[[\"ID\", \"age\", \"gender\", \"ScannerSerialNumber\"]]\n",
    "#subtract 1 from sex\n",
    "#remape gender M=0 and F=1\n",
    "demographics_covariates[\"gender\"] = demographics_covariates[\"gender\"].map({\"M\": 0, \"F\": 1})\n",
    "#rename demographics_covariates to demographics_covariates\n",
    "demographics_covariates.rename(\n",
    "    columns={\"ID\": \"ID\", \"gender\": \"Sex\", \"age\": \"Age\", \"ScannerSerialNumber\": \"Site\"},\n",
    "    inplace=True,\n",
    ")\n",
    "demographics_covariates.dropna(inplace=True)\n",
    "demographics_covariates.to_csv(os.path.join(folder, \"all_ages_all_ids.csv\"), index=False)\n",
    "demographics_covariates\n"
   ]
  },
  {
   "cell_type": "code",
   "execution_count": null,
   "metadata": {},
   "outputs": [],
   "source": [
    "#Potentially add BMI\n",
    "folder = \"/zi/home/esra.lenz/Documents/00_HITKIP/09_TABPFN/01_Validation_data_set/00_data/01_ds002785/\"\n",
    "csv_path = os.path.join(folder, \"participants.tsv\")\n",
    "merged_df = pd.read_csv(csv_path, sep=\"\\t\")\n",
    "merged_df.rename(columns={\"participant_id\": \"ID\"}, inplace=True)\n",
    "merged_df[\"ID\"].replace(\"sub-\", \"\", regex=True, inplace=True)\n",
    "merged_df[\"ID\"] = merged_df[\"ID\"].astype(str)\n",
    "demographics_covariates = merged_df[[\"ID\", \"sex\", \"age\"]]\n",
    "#subtract 1 from sex\n",
    "#remape gender M=0 and F=1\n",
    "demographics_covariates[\"sex\"] = demographics_covariates[\"sex\"].map({\"M\": 0, \"F\": 1})\n",
    "#rename demographics_covariates to demographics_covariates\n",
    "demographics_covariates.rename(\n",
    "    columns={\"ID\": \"ID\", \"sex\": \"Sex\", \"age\": \"Age\"},\n",
    "    inplace=True,\n",
    ")\n",
    "demographics_covariates.dropna(inplace=True)\n",
    "demographics_covariates.to_csv(os.path.join(folder, \"all_ages_all_ids.csv\"), index=False)\n",
    "demographics_covariates\n"
   ]
  },
  {
   "cell_type": "code",
   "execution_count": null,
   "metadata": {},
   "outputs": [],
   "source": [
    "#Potentially add BMI\n",
    "folder = \"/zi/home/esra.lenz/Documents/00_HITKIP/09_TABPFN/01_Validation_data_set/00_data/02_ds002790/\"\n",
    "csv_path = os.path.join(folder, \"participants.tsv\")\n",
    "merged_df = pd.read_csv(csv_path, sep=\"\\t\")\n",
    "merged_df.rename(columns={\"participant_id\": \"ID\"}, inplace=True)\n",
    "merged_df[\"ID\"].replace(\"sub-\", \"\", regex=True, inplace=True)\n",
    "merged_df[\"ID\"] = merged_df[\"ID\"].astype(str)\n",
    "demographics_covariates = merged_df[[\"ID\", \"sex\", \"age\"]]\n",
    "#subtract 1 from sex\n",
    "#remape gender M=0 and F=1\n",
    "demographics_covariates[\"sex\"] = demographics_covariates[\"sex\"].map({\"M\": 0, \"F\": 1})\n",
    "#rename demographics_covariates to demographics_covariates\n",
    "demographics_covariates.rename(\n",
    "    columns={\"ID\": \"ID\", \"sex\": \"Sex\", \"age\": \"Age\"},\n",
    "    inplace=True,\n",
    ")\n",
    "demographics_covariates.to_csv(os.path.join(folder, \"all_ages_all_ids.csv\"), index=False)\n",
    "demographics_covariates\n"
   ]
  }
 ],
 "metadata": {
  "kernelspec": {
   "display_name": "NAKO_CLIP",
   "language": "python",
   "name": "python3"
  },
  "language_info": {
   "codemirror_mode": {
    "name": "ipython",
    "version": 3
   },
   "file_extension": ".py",
   "mimetype": "text/x-python",
   "name": "python",
   "nbconvert_exporter": "python",
   "pygments_lexer": "ipython3",
   "version": "3.11.7"
  }
 },
 "nbformat": 4,
 "nbformat_minor": 2
}
