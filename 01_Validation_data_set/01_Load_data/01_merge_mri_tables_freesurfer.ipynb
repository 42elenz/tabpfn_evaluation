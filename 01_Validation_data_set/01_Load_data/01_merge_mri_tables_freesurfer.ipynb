{
 "cells": [
  {
   "cell_type": "code",
   "execution_count": null,
   "metadata": {},
   "outputs": [],
   "source": [
    "import pandas as pd\n",
    "import numpy as np\n",
    "import os\n",
    "import subprocess"
   ]
  },
  {
   "cell_type": "code",
   "execution_count": null,
   "metadata": {},
   "outputs": [],
   "source": [
    "drop_cols_aseg_vol = [\n",
    "    \"BrainSegVolNotVent\",\n",
    "    \"BrainSegVolNotVentSurf\",\n",
    "    \"eTIV\",\n",
    "    \"MeanThickness\",\n",
    "    \"EstimatedTotalIntraCranialVol\",\n",
    "    \"MaskVol\",\n",
    "    \"BrainSegVol-to-eTIV\",\n",
    "    \"MaskVol-to-eTIV\",\n",
    "    \"SurfaceHoles\",\n",
    "] "
   ]
  },
  {
   "cell_type": "code",
   "execution_count": null,
   "metadata": {},
   "outputs": [],
   "source": [
    "#load all tsvs from /opt/notebooks/freesurfer_stats\n",
    "data_dir = \"../00_data/\"\n",
    "for source_folder in os.listdir(data_dir):\n",
    "    dfs_dict={}\n",
    "    source_folder = data_dir + source_folder + \"/\"\n",
    "    for file in os.listdir(source_folder):\n",
    "        if file.endswith('.csv'):\n",
    "            if file.startswith(\"lh\"):\n",
    "                lh_df = pd.read_csv(f'{source_folder}'+file)\n",
    "                rh_df = pd.read_csv(f'{source_folder}rh'+file[2:])\n",
    "                lh_df.rename(columns={lh_df.columns[0]: 'ID'}, inplace=True)\n",
    "                rh_df.rename(columns={rh_df.columns[0]: 'ID'}, inplace=True)\n",
    "                df = pd.merge(lh_df, rh_df, on='ID')\n",
    "                df[\"ID\"] = df[\"ID\"].str.replace(\"sub-\", \"\",)\n",
    "                name = file[3:].replace(\".csv\", \"\")\n",
    "            elif file.startswith(\"rh\") == False:\n",
    "                df = pd.read_csv(f'{source_folder}'+file)\n",
    "                df.rename(columns={df.columns[0]: 'ID'}, inplace=True)\n",
    "                df[\"ID\"] = df[\"ID\"].str.replace(\"sub-\", \"\")\n",
    "                name = file.replace(\".csv\", \"\")\n",
    "            else:\n",
    "                continue\n",
    "            dfs_dict[name] = df\n",
    "    for key in dfs_dict.keys():\n",
    "        print(key)\n",
    "    keys = ['aseg.volume', 'aparc.volume', 'aparc.thickness']\n",
    "    for key in list(dfs_dict.keys()):  \n",
    "        if key not in keys: \n",
    "            del dfs_dict[key]\n",
    "    for key, df in dfs_dict.items():\n",
    "        print(key)\n",
    "        for col in df.columns:\n",
    "            print(df[col].describe())\n",
    "    for key, df in dfs_dict.items():\n",
    "        drop_cols = [col for col in df.columns if any(drop_col in col for drop_col in drop_cols_aseg_vol)]\n",
    "        df.drop(columns=drop_cols, inplace=True)\n",
    "        dfs_dict[key] = df\n",
    "        print(len(df))\n",
    "        print(len(df.columns))\n",
    "\n",
    "    # Create the directory if it does not exist\n",
    "    output_dir = os.path.join(source_folder, \"freesurfer_finished\")\n",
    "    os.makedirs(output_dir, exist_ok=True)\n",
    "\n",
    "    # Save individual dataframes\n",
    "    for key, df in dfs_dict.items():\n",
    "        print(len(df.columns))\n",
    "        df.to_csv(os.path.join(output_dir, f'{key}.csv'), index=False)"
   ]
  },
  {
   "cell_type": "code",
   "execution_count": null,
   "metadata": {},
   "outputs": [],
   "source": [
    "#command = \"dx upload -r /opt/notebooks/freesurfer_finished/*.csv --path project-GvJ4qQ8Jk6k7QFZ0Jzjp7vJ6:/Users/Esra_Lenz/02_Data/00_mri_tables/00_important_freesurfer_stats/\"\n",
    "#subprocess.run(command, shell=True, check=True, stdout=subprocess.PIPE, universal_newlines=True)"
   ]
  },
  {
   "cell_type": "code",
   "execution_count": null,
   "metadata": {},
   "outputs": [],
   "source": []
  }
 ],
 "metadata": {
  "kernelspec": {
   "display_name": "NAKO_CLIP",
   "language": "python",
   "name": "python3"
  },
  "language_info": {
   "codemirror_mode": {
    "name": "ipython",
    "version": 3
   },
   "file_extension": ".py",
   "mimetype": "text/x-python",
   "name": "python",
   "nbconvert_exporter": "python",
   "pygments_lexer": "ipython3",
   "version": "3.11.7"
  }
 },
 "nbformat": 4,
 "nbformat_minor": 2
}
