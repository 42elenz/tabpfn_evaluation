{
 "cells": [
  {
   "cell_type": "code",
   "execution_count": null,
   "metadata": {},
   "outputs": [],
   "source": [
    "import pandas as pd\n",
    "import numpy as np\n",
    "import os\n",
    "import subprocess"
   ]
  },
  {
   "cell_type": "code",
   "execution_count": null,
   "metadata": {},
   "outputs": [],
   "source": [
    "#load all tsvs from /opt/notebooks/freesurfer_stats\n",
    "dfs_dict={}\n",
    "for file in os.listdir('/zi/home/esra.lenz/Documents/00_HITKIP/09_TABPFN/00_NAKO/00_data/mris/'):\n",
    "    if file.endswith('.csv'):\n",
    "        if file.startswith(\"lh\"):\n",
    "            lh_df = pd.read_csv('/zi/home/esra.lenz/Documents/00_HITKIP/09_TABPFN/00_NAKO/00_data/mris/'+file)\n",
    "            rh_df = pd.read_csv('/zi/home/esra.lenz/Documents/00_HITKIP/09_TABPFN/00_NAKO/00_data/mris/rh'+file[2:])\n",
    "            lh_df.rename(columns={lh_df.columns[0]: 'ID'}, inplace=True)\n",
    "            rh_df.rename(columns={rh_df.columns[0]: 'ID'}, inplace=True)\n",
    "            df = pd.merge(lh_df, rh_df, on='ID')\n",
    "            df[\"ID\"] = df[\"ID\"].str.replace(\"sub-\", \"\",)\n",
    "            name = file[3:].replace(\".csv\", \"\")\n",
    "        elif file.startswith(\"rh\") == False:\n",
    "            df = pd.read_csv('/zi/home/esra.lenz/Documents/00_HITKIP/09_TABPFN/00_NAKO/00_data/mris/'+file)\n",
    "            df.rename(columns={df.columns[0]: 'ID'}, inplace=True)\n",
    "            df[\"ID\"] = df[\"ID\"].str.replace(\"sub-\", \"\")\n",
    "            name = file.replace(\".csv\", \"\")\n",
    "        else:\n",
    "            continue\n",
    "        dfs_dict[name] = df\n"
   ]
  },
  {
   "cell_type": "code",
   "execution_count": null,
   "metadata": {},
   "outputs": [],
   "source": [
    "for key in dfs_dict.keys():\n",
    "    print(key)"
   ]
  },
  {
   "cell_type": "code",
   "execution_count": null,
   "metadata": {},
   "outputs": [],
   "source": [
    "keys = ['aseg.volume', 'aparc.volume', 'aparc.thickness']\n",
    "for key in list(dfs_dict.keys()):  \n",
    "    if key not in keys: \n",
    "        del dfs_dict[key]"
   ]
  },
  {
   "cell_type": "code",
   "execution_count": null,
   "metadata": {},
   "outputs": [],
   "source": [
    "for key, df in dfs_dict.items():\n",
    "    print(key)\n",
    "    for col in df.columns:\n",
    "        print(df[col].describe())"
   ]
  },
  {
   "cell_type": "code",
   "execution_count": null,
   "metadata": {},
   "outputs": [],
   "source": [
    "drop_cols_aseg_vol = [\n",
    "    \"BrainSegVolNotVent\",\n",
    "    \"BrainSegVolNotVentSurf\",\n",
    "    \"eTIV\",\n",
    "    \"MeanThickness\",\n",
    "    \"EstimatedTotalIntraCranialVol\",\n",
    "    \"MaskVol\",\n",
    "    \"BrainSegVol-to-eTIV\",\n",
    "    \"MaskVol-to-eTIV\",\n",
    "    \"SurfaceHoles\",\n",
    "] "
   ]
  },
  {
   "cell_type": "code",
   "execution_count": null,
   "metadata": {},
   "outputs": [],
   "source": [
    "for key, df in dfs_dict.items():\n",
    "    drop_cols = [col for col in df.columns if any(drop_col in col for drop_col in drop_cols_aseg_vol)]\n",
    "    df.drop(columns=drop_cols, inplace=True)\n",
    "    dfs_dict[key] = df\n",
    "    print(len(df))\n",
    "    print(len(df.columns))"
   ]
  },
  {
   "cell_type": "code",
   "execution_count": null,
   "metadata": {},
   "outputs": [],
   "source": [
    "for mri in keys:\n",
    "    print(mri)\n",
    "    df = pd.read_csv('/zi/home/esra.lenz/Documents/00_HITKIP/00_CLIP/00_NAKO/02_Validation_of_UKB/00_data/freesurfer_finished/'+mri+'.csv')\n",
    "    print(len(df.columns))"
   ]
  },
  {
   "cell_type": "code",
   "execution_count": null,
   "metadata": {},
   "outputs": [],
   "source": [
    "# Create the directory if it does not exist\n",
    "output_dir = '../00_data/freesurfer_finished/'\n",
    "os.makedirs(output_dir, exist_ok=True)\n",
    "\n",
    "# Save individual dataframes\n",
    "for key, df in dfs_dict.items():\n",
    "    print(len(df.columns))\n",
    "    df.to_csv(os.path.join(output_dir, f'{key}.csv'), index=False)\n"
   ]
  },
  {
   "cell_type": "code",
   "execution_count": null,
   "metadata": {},
   "outputs": [],
   "source": [
    "#command = \"dx upload -r /opt/notebooks/freesurfer_finished/*.csv --path project-GvJ4qQ8Jk6k7QFZ0Jzjp7vJ6:/Users/Esra_Lenz/02_Data/00_mri_tables/00_important_freesurfer_stats/\"\n",
    "#subprocess.run(command, shell=True, check=True, stdout=subprocess.PIPE, universal_newlines=True)"
   ]
  },
  {
   "cell_type": "code",
   "execution_count": null,
   "metadata": {},
   "outputs": [],
   "source": []
  }
 ],
 "metadata": {
  "kernelspec": {
   "display_name": "NAKO_CLIP",
   "language": "python",
   "name": "python3"
  },
  "language_info": {
   "codemirror_mode": {
    "name": "ipython",
    "version": 3
   },
   "file_extension": ".py",
   "mimetype": "text/x-python",
   "name": "python",
   "nbconvert_exporter": "python",
   "pygments_lexer": "ipython3",
   "version": "3.11.7"
  }
 },
 "nbformat": 4,
 "nbformat_minor": 2
}
