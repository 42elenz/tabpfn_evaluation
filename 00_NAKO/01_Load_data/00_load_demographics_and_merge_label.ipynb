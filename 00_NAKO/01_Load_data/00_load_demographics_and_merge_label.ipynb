{
 "cells": [
  {
   "cell_type": "code",
   "execution_count": null,
   "metadata": {},
   "outputs": [],
   "source": [
    "import pandas as pd\n",
    "import os"
   ]
  },
  {
   "cell_type": "code",
   "execution_count": null,
   "metadata": {},
   "outputs": [],
   "source": [
    "csv_path = \"/zi/flstorage/HITKIP/datasets/NAKO_01_2024/NAKO/sourcedata/NAKO-711_Studiendaten/NAKO-711_export_Auswertung_export_baseline.csv\"\n",
    "merged_df = pd.read_csv(csv_path, sep=\";\")\n",
    "merged_df[\"Id\"] = merged_df[\"ID\"].astype(str)\n",
    "\n",
    "merged_df.to_csv(\"../00_data/NAKO_all_data.csv\", index=False)"
   ]
  },
  {
   "cell_type": "code",
   "execution_count": null,
   "metadata": {},
   "outputs": [],
   "source": [
    "mri_data = \"/zi/flstorage/HITKIP/datasets/NAKO_01_2024/NAKO/derivatives/ses-01/freesurfer_stats/\"\n",
    "#load specific files to ../00_data/mris if they contain \n",
    "output_dir = \"../00_data/mris/\"\n",
    "os.makedirs(output_dir, exist_ok=True)\n",
    "files = [\"aparc.volume\", \"aparc.thickness\", \"aseg.volume\"]\n",
    "for file in files:\n",
    "    for root, dirs, files in os.walk(mri_data):\n",
    "        for name in files:\n",
    "            if file in name:\n",
    "                print(name)\n",
    "                df = pd.read_csv(os.path.join(root, name), sep=\"\\t\")\n",
    "                #chang ending to csv\n",
    "                name = name.replace(\".tsv\", \".csv\")\n",
    "                df.to_csv(os.path.join(output_dir, name), index=False)"
   ]
  },
  {
   "cell_type": "code",
   "execution_count": null,
   "metadata": {},
   "outputs": [],
   "source": [
    "demographics_covariates = merged_df[[\"ID\", \"basis_sex\", \"basis_age\", \"basis_uort\"]]\n",
    "#subtract 1 from sex\n",
    "demographics_covariates[\"basis_sex\"] = demographics_covariates[\"basis_sex\"] - 1"
   ]
  },
  {
   "cell_type": "code",
   "execution_count": null,
   "metadata": {},
   "outputs": [],
   "source": [
    "#rename demographics_covariates to demographics_covariates\n",
    "demographics_covariates.rename(\n",
    "    columns={\"ID\": \"ID\", \"basis_sex\": \"Sex\", \"basis_uort\": \"Site\", \"basis_age\": \"Age\"},\n",
    "    inplace=True,\n",
    ")"
   ]
  },
  {
   "cell_type": "code",
   "execution_count": null,
   "metadata": {},
   "outputs": [],
   "source": [
    "demographics_covariates.to_csv(\"../00_data/age_label/all_ages_all_ids.csv\", index=False)"
   ]
  },
  {
   "cell_type": "code",
   "execution_count": null,
   "metadata": {},
   "outputs": [],
   "source": [
    "demographics_covariates.to_csv(\"../00_data/NAKO_demographics_covariates.csv\", index=False)"
   ]
  },
  {
   "cell_type": "code",
   "execution_count": null,
   "metadata": {},
   "outputs": [],
   "source": [
    "demographics_covariates"
   ]
  }
 ],
 "metadata": {
  "kernelspec": {
   "display_name": "NAKO_CLIP",
   "language": "python",
   "name": "python3"
  },
  "language_info": {
   "codemirror_mode": {
    "name": "ipython",
    "version": 3
   },
   "file_extension": ".py",
   "mimetype": "text/x-python",
   "name": "python",
   "nbconvert_exporter": "python",
   "pygments_lexer": "ipython3",
   "version": "3.11.7"
  }
 },
 "nbformat": 4,
 "nbformat_minor": 2
}
