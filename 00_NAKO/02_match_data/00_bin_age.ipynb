{
 "cells": [
  {
   "cell_type": "code",
   "execution_count": 2,
   "metadata": {},
   "outputs": [],
   "source": [
    "import pandas as pd"
   ]
  },
  {
   "cell_type": "code",
   "execution_count": 3,
   "metadata": {},
   "outputs": [],
   "source": [
    "df = pd.read_csv(\"../00_data/age_label/all_ages_healthy.csv\")"
   ]
  },
  {
   "cell_type": "code",
   "execution_count": 4,
   "metadata": {},
   "outputs": [
    {
     "data": {
      "text/html": [
       "<div>\n",
       "<style scoped>\n",
       "    .dataframe tbody tr th:only-of-type {\n",
       "        vertical-align: middle;\n",
       "    }\n",
       "\n",
       "    .dataframe tbody tr th {\n",
       "        vertical-align: top;\n",
       "    }\n",
       "\n",
       "    .dataframe thead th {\n",
       "        text-align: right;\n",
       "    }\n",
       "</style>\n",
       "<table border=\"1\" class=\"dataframe\">\n",
       "  <thead>\n",
       "    <tr style=\"text-align: right;\">\n",
       "      <th></th>\n",
       "      <th>ID</th>\n",
       "      <th>Sex</th>\n",
       "      <th>label_Age</th>\n",
       "      <th>Site</th>\n",
       "    </tr>\n",
       "  </thead>\n",
       "  <tbody>\n",
       "    <tr>\n",
       "      <th>0</th>\n",
       "      <td>100000</td>\n",
       "      <td>1</td>\n",
       "      <td>28</td>\n",
       "      <td>31</td>\n",
       "    </tr>\n",
       "    <tr>\n",
       "      <th>1</th>\n",
       "      <td>100001</td>\n",
       "      <td>0</td>\n",
       "      <td>48</td>\n",
       "      <td>31</td>\n",
       "    </tr>\n",
       "    <tr>\n",
       "      <th>2</th>\n",
       "      <td>100003</td>\n",
       "      <td>0</td>\n",
       "      <td>50</td>\n",
       "      <td>21</td>\n",
       "    </tr>\n",
       "    <tr>\n",
       "      <th>3</th>\n",
       "      <td>100005</td>\n",
       "      <td>1</td>\n",
       "      <td>58</td>\n",
       "      <td>81</td>\n",
       "    </tr>\n",
       "    <tr>\n",
       "      <th>4</th>\n",
       "      <td>100006</td>\n",
       "      <td>0</td>\n",
       "      <td>46</td>\n",
       "      <td>21</td>\n",
       "    </tr>\n",
       "    <tr>\n",
       "      <th>...</th>\n",
       "      <td>...</td>\n",
       "      <td>...</td>\n",
       "      <td>...</td>\n",
       "      <td>...</td>\n",
       "    </tr>\n",
       "    <tr>\n",
       "      <th>16359</th>\n",
       "      <td>130922</td>\n",
       "      <td>0</td>\n",
       "      <td>43</td>\n",
       "      <td>81</td>\n",
       "    </tr>\n",
       "    <tr>\n",
       "      <th>16360</th>\n",
       "      <td>130923</td>\n",
       "      <td>1</td>\n",
       "      <td>62</td>\n",
       "      <td>21</td>\n",
       "    </tr>\n",
       "    <tr>\n",
       "      <th>16361</th>\n",
       "      <td>130924</td>\n",
       "      <td>0</td>\n",
       "      <td>54</td>\n",
       "      <td>11</td>\n",
       "    </tr>\n",
       "    <tr>\n",
       "      <th>16362</th>\n",
       "      <td>130925</td>\n",
       "      <td>0</td>\n",
       "      <td>48</td>\n",
       "      <td>11</td>\n",
       "    </tr>\n",
       "    <tr>\n",
       "      <th>16363</th>\n",
       "      <td>130928</td>\n",
       "      <td>0</td>\n",
       "      <td>22</td>\n",
       "      <td>31</td>\n",
       "    </tr>\n",
       "  </tbody>\n",
       "</table>\n",
       "<p>16364 rows × 4 columns</p>\n",
       "</div>"
      ],
      "text/plain": [
       "           ID  Sex  label_Age  Site\n",
       "0      100000    1         28    31\n",
       "1      100001    0         48    31\n",
       "2      100003    0         50    21\n",
       "3      100005    1         58    81\n",
       "4      100006    0         46    21\n",
       "...       ...  ...        ...   ...\n",
       "16359  130922    0         43    81\n",
       "16360  130923    1         62    21\n",
       "16361  130924    0         54    11\n",
       "16362  130925    0         48    11\n",
       "16363  130928    0         22    31\n",
       "\n",
       "[16364 rows x 4 columns]"
      ]
     },
     "execution_count": 4,
     "metadata": {},
     "output_type": "execute_result"
    }
   ],
   "source": [
    "df"
   ]
  },
  {
   "cell_type": "code",
   "execution_count": 13,
   "metadata": {},
   "outputs": [
    {
     "name": "stdout",
     "output_type": "stream",
     "text": [
      "Age group mappings:\n",
      "Group 0: (19, 29]\n",
      "Group 1: (29, 39]\n",
      "Group 2: (39, 49]\n",
      "Group 3: (49, 59]\n",
      "Group 4: (59, 69]\n",
      "Group 5: (69, 79]\n",
      "\n",
      "Value counts:\n",
      "label_age_group\n",
      "0.0    1651\n",
      "1.0    1824\n",
      "2.0    4793\n",
      "3.0    4461\n",
      "4.0    3391\n",
      "5.0     240\n",
      "Name: count, dtype: int64\n"
     ]
    },
    {
     "data": {
      "text/plain": [
       "count    16364.000000\n",
       "mean        48.699218\n",
       "std         12.364732\n",
       "min         19.000000\n",
       "25%         41.000000\n",
       "50%         49.000000\n",
       "75%         58.000000\n",
       "max         74.000000\n",
       "Name: label_Age, dtype: float64"
      ]
     },
     "execution_count": 13,
     "metadata": {},
     "output_type": "execute_result"
    }
   ],
   "source": [
    "bin_size = 10\n",
    "max_age = df['label_Age'].max()\n",
    "min_age = df['label_Age'].min()\n",
    "\n",
    "# Create bins starting from the minimum age\n",
    "bins = list(range(int(min_age), int(max_age) + bin_size, bin_size))\n",
    "\n",
    "# Create age group labels\n",
    "df['label_age_group'] = pd.cut(df['label_Age'], bins=bins, labels=False)\n",
    "\n",
    "# Print the actual age ranges for each group\n",
    "age_ranges = pd.cut(df['label_Age'], bins=bins)\n",
    "print(\"Age group mappings:\")\n",
    "for i, category in enumerate(age_ranges.cat.categories):\n",
    "    print(f\"Group {i}: {category}\")\n",
    "\n",
    "print(\"\\nValue counts:\")\n",
    "print(df[\"label_age_group\"].value_counts().sort_index())\n",
    "len(df[\"label_Age\"].unique())\n",
    "df[\"label_Age\"].describe()"
   ]
  },
  {
   "cell_type": "code",
   "execution_count": 8,
   "metadata": {},
   "outputs": [],
   "source": [
    "df.to_csv(\"../00_data/age_label/all_ages_all_ids_healthy.csv\", index=False)\n"
   ]
  },
  {
   "cell_type": "code",
   "execution_count": 28,
   "metadata": {},
   "outputs": [],
   "source": [
    "#df.to_csv(\"../00_data/age_label/all_ages.csv\", index=False)"
   ]
  }
 ],
 "metadata": {
  "kernelspec": {
   "display_name": "NAKO_CLIP",
   "language": "python",
   "name": "python3"
  },
  "language_info": {
   "codemirror_mode": {
    "name": "ipython",
    "version": 3
   },
   "file_extension": ".py",
   "mimetype": "text/x-python",
   "name": "python",
   "nbconvert_exporter": "python",
   "pygments_lexer": "ipython3",
   "version": "3.11.7"
  }
 },
 "nbformat": 4,
 "nbformat_minor": 2
}
